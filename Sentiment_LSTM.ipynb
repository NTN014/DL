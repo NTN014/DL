{
  "cells": [
    {
      "cell_type": "code",
      "execution_count": 102,
      "metadata": {
        "id": "T80HRRtrNEpm"
      },
      "outputs": [],
      "source": [
        "from tensorflow.keras.preprocessing.sequence import pad_sequences\n",
        "from tensorflow.keras import layers , activations , models , preprocessing , utils\n",
        "import tensorflow as tf\n",
        "from  sklearn.model_selection import train_test_split"
      ]
    },
    {
      "cell_type": "code",
      "execution_count": 103,
      "metadata": {
        "colab": {
          "base_uri": "https://localhost:8080/"
        },
        "id": "hHwsfOZqNEpq",
        "outputId": "6213fb67-784f-40c0-afdd-c07bfcf6a7b0"
      },
      "outputs": [
        {
          "output_type": "stream",
          "name": "stdout",
          "text": [
            "Read 992 items, skiped 8 error lines\n",
            "Label 0: 496 Label 1: 496\n"
          ]
        }
      ],
      "source": [
        "#doc du lieu ve dang data-label\n",
        "data=[]\n",
        "label=[]\n",
        "error=0\n",
        "with open('yelp_labelled.csv','r') as f:\n",
        "    for line in f:\n",
        "        part = line.strip().strip(',').split(',')\n",
        "        if len(part)<=1:\n",
        "            error+=1\n",
        "            continue\n",
        "        if part[-1]!='0' and part[-1]!='1':\n",
        "            error+=1\n",
        "            continue\n",
        "        data.append(\", \".join(part[:-1]))\n",
        "        label.append(int(part[-1]))\n",
        "print('Read',len(data),'items, skiped',error,'error lines')\n",
        "print('Label 0:',len(label)-sum(label),'Label 1:',sum(label))"
      ]
    },
    {
      "cell_type": "code",
      "execution_count": 104,
      "metadata": {
        "colab": {
          "base_uri": "https://localhost:8080/"
        },
        "id": "RN1XDkD4NEpr",
        "outputId": "ca3c7b4a-7c37-42ad-e63f-8e39df1b64bf"
      },
      "outputs": [
        {
          "output_type": "stream",
          "name": "stdout",
          "text": [
            "['Wow... Loved this place.', 'Crust is not good.', 'Not tasty and the texture was just nasty.', 'Stopped by during the late May bank holiday off Rick Steve recommendation and loved it.', 'The selection on the menu was great and so were the prices.']\n",
            "[1, 0, 0, 1, 1]\n"
          ]
        }
      ],
      "source": [
        "print(data[:5])\n",
        "print(label[:5])"
      ]
    },
    {
      "cell_type": "code",
      "execution_count": 105,
      "metadata": {
        "colab": {
          "base_uri": "https://localhost:8080/"
        },
        "id": "012tHKCpNEpt",
        "outputId": "5ac7ac24-275f-41a6-c4e1-37ab8adaa5d7"
      },
      "outputs": [
        {
          "output_type": "stream",
          "name": "stdout",
          "text": [
            "[[  0   0   0   0   0   0   0   0   0   0   0   0   0   0   0   0   0   0\n",
            "    0   0   0   0   0   0   0   0   0   0 424 164   8  15]\n",
            " [  0   0   0   0   0   0   0   0   0   0   0   0   0   0   0   0   0   0\n",
            "    0   0   0   0   0   0   0   0   0   0 582   7  12  16]\n",
            " [  0   0   0   0   0   0   0   0   0   0   0   0   0   0   0   0   0   0\n",
            "    0   0   0   0   0   0  12 149   2   1 425   4  45 426]\n",
            " [  0   0   0   0   0   0   0   0   0   0   0   0   0   0   0   0   0 583\n",
            "   73 289   1 584 290 893 894 180 895 896 427   2 164   9]\n",
            " [  0   0   0   0   0   0   0   0   0   0   0   0   0   0   0   0   0   0\n",
            "    0   0   1 165  35   1 109   4  22   2  26  27   1 166]]\n"
          ]
        }
      ],
      "source": [
        "tokenizer = tf.keras.preprocessing.text.Tokenizer(lower=True,split=' ')\n",
        "tokenizer.fit_on_texts(data)\n",
        "X = tokenizer.texts_to_sequences(data)\n",
        "X = pad_sequences(X)\n",
        "print(X[:5])"
      ]
    },
    {
      "cell_type": "code",
      "execution_count": 106,
      "metadata": {
        "colab": {
          "base_uri": "https://localhost:8080/"
        },
        "id": "Pn9hTKD5NEpt",
        "outputId": "8ab8857f-f3a2-4ec9-8179-e72e7942558d"
      },
      "outputs": [
        {
          "output_type": "stream",
          "name": "stdout",
          "text": [
            "input shape (992, 32)\n",
            "Vocab count 2054\n"
          ]
        }
      ],
      "source": [
        "print(\"input shape\",X.shape)\n",
        "n_vocab=len(tokenizer.word_index)+1\n",
        "print('Vocab count',n_vocab)"
      ]
    },
    {
      "cell_type": "code",
      "execution_count": 107,
      "metadata": {
        "id": "wlflF0T5NEpu",
        "outputId": "8c8fc589-9551-462c-9bdc-c7ffb4deaf56",
        "colab": {
          "base_uri": "https://localhost:8080/"
        }
      },
      "outputs": [
        {
          "output_type": "stream",
          "name": "stdout",
          "text": [
            "2054\n",
            "32\n"
          ]
        }
      ],
      "source": [
        "print(n_vocab)\n",
        "print(X.shape[1])"
      ]
    },
    {
      "cell_type": "code",
      "execution_count": 108,
      "metadata": {
        "id": "cZv-HvYANEpv",
        "outputId": "1a1c22ee-ecfc-43cc-bab2-1155e438a483",
        "colab": {
          "base_uri": "https://localhost:8080/"
        }
      },
      "outputs": [
        {
          "output_type": "stream",
          "name": "stdout",
          "text": [
            "Model: \"sequential_10\"\n",
            "_________________________________________________________________\n",
            " Layer (type)                Output Shape              Param #   \n",
            "=================================================================\n",
            " embedding_10 (Embedding)    (None, 32, 128)           262912    \n",
            "                                                                 \n",
            " lstm_19 (LSTM)              (None, 32, 200)           263200    \n",
            "                                                                 \n",
            " lstm_20 (LSTM)              (None, 200)               320800    \n",
            "                                                                 \n",
            " dense_16 (Dense)            (None, 128)               25728     \n",
            "                                                                 \n",
            " dense_17 (Dense)            (None, 2)                 258       \n",
            "                                                                 \n",
            "=================================================================\n",
            "Total params: 872,898\n",
            "Trainable params: 872,898\n",
            "Non-trainable params: 0\n",
            "_________________________________________________________________\n",
            "None\n"
          ]
        }
      ],
      "source": [
        "embed_dim = 128\n",
        "hidden_size = 200\n",
        "batch_size = 32\n",
        "\n",
        "model = models.Sequential()\n",
        "model.add(layers.Embedding(n_vocab, embed_dim, input_length = X.shape[1]))\n",
        "#model.add(layers.LSTM(hidden_size,return_sequences = True))\n",
        "model.add(layers.LSTM(hidden_size, return_sequences = True))\n",
        "model.add(layers.LSTM(hidden_size))\n",
        "model.add(layers.Dense(128,activation='sigmoid'))\n",
        "model.add(layers.Dense(2,activation='softmax'))\n",
        "model.compile(loss = 'categorical_crossentropy', optimizer='adam',metrics = ['accuracy'])\n",
        "print(model.summary())"
      ]
    },
    {
      "cell_type": "code",
      "execution_count": 109,
      "metadata": {
        "id": "1KqYl-PINEpw"
      },
      "outputs": [],
      "source": [
        "#tách train test\n",
        "Y = tf.keras.utils.to_categorical(label)\n",
        "X_train, X_valid, Y_train, Y_valid = train_test_split(X, Y, test_size = 0.25, random_state = 36)"
      ]
    },
    {
      "cell_type": "code",
      "execution_count": 110,
      "metadata": {
        "id": "dyi_2oyaNEpx",
        "outputId": "d7269354-3f12-40a6-ce7d-dd6bad1fd70c",
        "colab": {
          "base_uri": "https://localhost:8080/"
        }
      },
      "outputs": [
        {
          "output_type": "stream",
          "name": "stdout",
          "text": [
            "Epoch 1/4\n",
            "21/21 [==============================] - 7s 138ms/step - loss: 0.6960 - accuracy: 0.5067 - val_loss: 0.6872 - val_accuracy: 0.6933\n",
            "Epoch 2/4\n",
            "21/21 [==============================] - 2s 95ms/step - loss: 0.6191 - accuracy: 0.6921 - val_loss: 0.5153 - val_accuracy: 0.7867\n",
            "Epoch 3/4\n",
            "21/21 [==============================] - 1s 56ms/step - loss: 0.3695 - accuracy: 0.8460 - val_loss: 0.6084 - val_accuracy: 0.6533\n",
            "Epoch 4/4\n",
            "21/21 [==============================] - 1s 48ms/step - loss: 0.1476 - accuracy: 0.9567 - val_loss: 0.5933 - val_accuracy: 0.8133\n"
          ]
        }
      ],
      "source": [
        "history = model.fit(X_train, Y_train, batch_size = batch_size, epochs = 4, verbose = 1, validation_split=0.1)"
      ]
    },
    {
      "cell_type": "code",
      "execution_count": 111,
      "metadata": {
        "id": "oEyuj52VNEpy",
        "outputId": "c7d8fb63-6d6e-4474-bbfc-ab1ca7942928",
        "colab": {
          "base_uri": "https://localhost:8080/",
          "height": 683
        }
      },
      "outputs": [
        {
          "output_type": "display_data",
          "data": {
            "text/plain": [
              "<Figure size 720x360 with 1 Axes>"
            ],
            "image/png": "[encoded data removed]"
          },
          "metadata": {
            "needs_background": "light"
          }
        },
        {
          "output_type": "display_data",
          "data": {
            "text/plain": [
              "<Figure size 720x360 with 1 Axes>"
            ],
            "image/png": "[encoded data removed]"
          },
          "metadata": {
            "needs_background": "light"
          }
        }
      ],
      "source": [
        "%matplotlib inline\n",
        "import matplotlib.pyplot as plt\n",
        "plt.rcParams['figure.figsize'] = (10, 5)\n",
        "# Plot training & validation accuracy values\n",
        "plt.plot(history.history['accuracy'])\n",
        "plt.plot(history.history['val_accuracy'])\n",
        "plt.title('Model accuracy')\n",
        "plt.ylabel('Accuracy')\n",
        "plt.xlabel('Epoch')\n",
        "plt.legend(['Train', 'Test'], loc='upper left')\n",
        "plt.show()\n",
        "\n",
        "# Plot training & validation loss values\n",
        "plt.plot(history.history['loss'])\n",
        "plt.plot(history.history['val_loss'])\n",
        "plt.title('Model loss')\n",
        "plt.ylabel('Loss')\n",
        "plt.xlabel('Epoch')\n",
        "plt.legend(['Train', 'Test'], loc='upper left')\n",
        "plt.show()"
      ]
    },
    {
      "cell_type": "code",
      "execution_count": 112,
      "metadata": {
        "id": "nipgrAQANEpz",
        "outputId": "0a388656-c53e-4c46-86b2-3f519150d6c6",
        "colab": {
          "base_uri": "https://localhost:8080/"
        }
      },
      "outputs": [
        {
          "output_type": "stream",
          "name": "stdout",
          "text": [
            "8/8 [==============================] - 1s 4ms/step\n"
          ]
        }
      ],
      "source": [
        "#test\n",
        "preds = model.predict(X_valid, verbose = 1)"
      ]
    },
    {
      "cell_type": "code",
      "execution_count": 113,
      "metadata": {
        "id": "pHPueBviNEp0",
        "outputId": "4bac79bd-f736-4705-d5df-6dec13ce8ac0",
        "colab": {
          "base_uri": "https://localhost:8080/"
        }
      },
      "outputs": [
        {
          "output_type": "stream",
          "name": "stdout",
          "text": [
            "Accuracy: 0.737903\n",
            "Precision: 0.701389\n",
            "Recall: 0.821138\n",
            "F1 score: 0.756554\n",
            "              precision    recall  f1-score   support\n",
            "\n",
            "           0       0.79      0.66      0.72       125\n",
            "           1       0.70      0.82      0.76       123\n"
          ]
        }
      ],
      "source": [
        "from sklearn.metrics import accuracy_score, precision_score, recall_score, f1_score, classification_report\n",
        "import numpy as np\n",
        "#show result scores\n",
        "predict_labels = preds.argmax(axis=-1)\n",
        "true_labels=Y_valid.argmax(axis=-1)\n",
        "# accuracy: (tp + tn) / (p + n)\n",
        "accuracy = accuracy_score(true_labels, predict_labels)\n",
        "print('Accuracy: %f' % accuracy)\n",
        "# precision tp / (tp + fp)\n",
        "precision = precision_score(true_labels, predict_labels)\n",
        "print('Precision: %f' % precision)\n",
        "# recall: tp / (tp + fn)\n",
        "recall = recall_score(true_labels, predict_labels)\n",
        "print('Recall: %f' % recall)\n",
        "# f1: 2 tp / (2 tp + fp + fn)\n",
        "f1 = f1_score(true_labels, predict_labels)\n",
        "print('F1 score: %f' % f1)\n",
        "predict_labels=np.append(predict_labels,1)\n",
        "yhat4 = tf.keras.utils.to_categorical(predict_labels)\n",
        "predict_labels=predict_labels[:-1]\n",
        "yhat4=yhat4[:-1]\n",
        "real = tf.keras.utils.to_categorical(true_labels)\n",
        "print(\"\\n\".join(classification_report(real, yhat4).split('\\n')[:4]))\n"
      ]
    }
  ],
  "metadata": {
    "colab": {
      "provenance": []
    },
    "kernelspec": {
      "display_name": "Python 3 (ipykernel)",
      "language": "python",
      "name": "python3"
    },
    "language_info": {
      "codemirror_mode": {
        "name": "ipython",
        "version": 3
      },
      "file_extension": ".py",
      "mimetype": "text/x-python",
      "name": "python",
      "nbconvert_exporter": "python",
      "pygments_lexer": "ipython3",
      "version": "3.9.13"
    },
    "accelerator": "GPU",
    "gpuClass": "standard"
  },
  "nbformat": 4,
  "nbformat_minor": 0
}