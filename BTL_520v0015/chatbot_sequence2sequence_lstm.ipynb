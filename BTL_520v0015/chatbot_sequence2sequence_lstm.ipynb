{
  "cells": [
    {
      "cell_type": "code",
      "execution_count": null,
      "metadata": {
        "execution": {
          "iopub.execute_input": "2022-05-19T04:05:50.87271Z",
          "iopub.status.busy": "2022-05-19T04:05:50.872185Z",
          "iopub.status.idle": "2022-05-19T04:06:00.285151Z",
          "shell.execute_reply": "2022-05-19T04:06:00.284208Z",
          "shell.execute_reply.started": "2022-05-19T04:05:50.872674Z"
        },
        "trusted": true,
        "colab": {
          "base_uri": "https://localhost:8080/"
        },
        "id": "ue2rqYB09u4P",
        "outputId": "36386286-98e5-4b08-f1a9-5bbbb396c133"
      },
      "outputs": [
        {
          "output_type": "stream",
          "name": "stdout",
          "text": [
            "Looking in indexes: https://pypi.org/simple, https://us-python.pkg.dev/colab-wheels/public/simple/\n",
            "Collecting underthesea\n",
            "  Downloading underthesea-1.3.4-py3-none-any.whl (7.6 MB)\n",
            "\u001b[K     |████████████████████████████████| 7.6 MB 6.8 MB/s \n",
            "\u001b[?25hRequirement already satisfied: tqdm in /usr/local/lib/python3.7/dist-packages (from underthesea) (4.64.0)\n",
            "Requirement already satisfied: nltk in /usr/local/lib/python3.7/dist-packages (from underthesea) (3.2.5)\n",
            "Requirement already satisfied: Click>=6.0 in /usr/local/lib/python3.7/dist-packages (from underthesea) (7.1.2)\n",
            "Collecting python-crfsuite>=0.9.6\n",
            "  Downloading python_crfsuite-0.9.8-cp37-cp37m-manylinux_2_17_x86_64.manylinux2014_x86_64.whl (965 kB)\n",
            "\u001b[K     |████████████████████████████████| 965 kB 53.2 MB/s \n",
            "\u001b[?25hRequirement already satisfied: requests in /usr/local/lib/python3.7/dist-packages (from underthesea) (2.23.0)\n",
            "Requirement already satisfied: joblib in /usr/local/lib/python3.7/dist-packages (from underthesea) (1.1.0)\n",
            "Collecting unidecode\n",
            "  Downloading Unidecode-1.3.4-py3-none-any.whl (235 kB)\n",
            "\u001b[K     |████████████████████████████████| 235 kB 59.8 MB/s \n",
            "\u001b[?25hRequirement already satisfied: PyYAML in /usr/local/lib/python3.7/dist-packages (from underthesea) (3.13)\n",
            "Collecting underthesea-core==0.0.4_alpha.10\n",
            "  Downloading underthesea_core-0.0.4_alpha.10-cp37-cp37m-manylinux2010_x86_64.whl (581 kB)\n",
            "\u001b[K     |████████████████████████████████| 581 kB 70.4 MB/s \n",
            "\u001b[?25hRequirement already satisfied: scikit-learn in /usr/local/lib/python3.7/dist-packages (from underthesea) (1.0.2)\n",
            "Requirement already satisfied: six in /usr/local/lib/python3.7/dist-packages (from nltk->underthesea) (1.15.0)\n",
            "Requirement already satisfied: chardet<4,>=3.0.2 in /usr/local/lib/python3.7/dist-packages (from requests->underthesea) (3.0.4)\n",
            "Requirement already satisfied: idna<3,>=2.5 in /usr/local/lib/python3.7/dist-packages (from requests->underthesea) (2.10)\n",
            "Requirement already satisfied: urllib3!=1.25.0,!=1.25.1,<1.26,>=1.21.1 in /usr/local/lib/python3.7/dist-packages (from requests->underthesea) (1.24.3)\n",
            "Requirement already satisfied: certifi>=2017.4.17 in /usr/local/lib/python3.7/dist-packages (from requests->underthesea) (2022.5.18.1)\n",
            "Requirement already satisfied: numpy>=1.14.6 in /usr/local/lib/python3.7/dist-packages (from scikit-learn->underthesea) (1.21.6)\n",
            "Requirement already satisfied: threadpoolctl>=2.0.0 in /usr/local/lib/python3.7/dist-packages (from scikit-learn->underthesea) (3.1.0)\n",
            "Requirement already satisfied: scipy>=1.1.0 in /usr/local/lib/python3.7/dist-packages (from scikit-learn->underthesea) (1.4.1)\n",
            "Installing collected packages: unidecode, underthesea-core, python-crfsuite, underthesea\n",
            "Successfully installed python-crfsuite-0.9.8 underthesea-1.3.4 underthesea-core-0.0.4a10 unidecode-1.3.4\n"
          ]
        }
      ],
      "source": [
        "!pip install underthesea"
      ]
    },
    {
      "cell_type": "code",
      "execution_count": null,
      "metadata": {
        "execution": {
          "iopub.execute_input": "2022-05-19T04:06:00.287893Z",
          "iopub.status.busy": "2022-05-19T04:06:00.287605Z",
          "iopub.status.idle": "2022-05-19T04:06:02.752634Z",
          "shell.execute_reply": "2022-05-19T04:06:02.751817Z",
          "shell.execute_reply.started": "2022-05-19T04:06:00.287844Z"
        },
        "trusted": true,
        "id": "yAvFZPRA9u4S"
      },
      "outputs": [],
      "source": [
        "import re\n",
        "import numpy as np\n",
        "import pandas as pd\n",
        "import matplotlib.pyplot as plt\n",
        "\n",
        "from collections import Counter\n",
        "\n",
        "from underthesea import word_tokenize \n",
        "\n",
        "from keras import Input, Model\n",
        "from keras.layers import Embedding, LSTM, Dense\n",
        "from keras_preprocessing.text import Tokenizer\n",
        "from keras.preprocessing.sequence import pad_sequences\n",
        "\n",
        "from tensorflow.keras.utils import to_categorical\n",
        "from tensorflow.keras.optimizers import RMSprop\n",
        "\n",
        "import warnings\n",
        "warnings.filterwarnings(\"ignore\")"
      ]
    },
    {
      "cell_type": "code",
      "execution_count": null,
      "metadata": {
        "execution": {
          "iopub.execute_input": "2022-05-19T04:06:02.75533Z",
          "iopub.status.busy": "2022-05-19T04:06:02.755039Z",
          "iopub.status.idle": "2022-05-19T04:06:02.792211Z",
          "shell.execute_reply": "2022-05-19T04:06:02.791533Z",
          "shell.execute_reply.started": "2022-05-19T04:06:02.755293Z"
        },
        "trusted": true,
        "colab": {
          "base_uri": "https://localhost:8080/",
          "height": 424
        },
        "id": "NKU6AfqP9u4T",
        "outputId": "4d5aaea7-0b7c-4ae4-84bd-2e87367dab54"
      },
      "outputs": [
        {
          "output_type": "execute_result",
          "data": {
            "text/plain": [
              "                                 user_a                            user_b\n",
              "0                   Thích mẫu người nào      Dễ thương, tóc dài, da trắng\n",
              "1                     Có crush ai không                 Có 1 bạn cùng lớp\n",
              "2              Tại sao lại thích bạn dó  Vì đáp ứng những yêu cầu của tao\n",
              "3               Có hay nói chuyện không            Hay nhắn tin messenger\n",
              "4     Bạn kia có bắt chuyện trước không                        Có đôi khi\n",
              "...                                 ...                               ...\n",
              "5895           Nhà mày bao nhiêu người?                   7 8 người gì đó\n",
              "5896           Có bao nhiêu anh chị em?                      3 anh chị em\n",
              "5897           Mày là em út hay anh cả?                            Anh út\n",
              "5898                Bố mày làm nghề gì?     chủ tịch giả nghèo và cái kết\n",
              "5899                 Chị mày làm ở đâu?                    Tao mồ côi chị\n",
              "\n",
              "[5899 rows x 2 columns]"
            ],
            "text/html": [
              "\n",
              "  <div id=\"df-c0962109-86ba-4423-a0de-401f72e76749\">\n",
              "    <div class=\"colab-df-container\">\n",
              "      <div>\n",
              "<style scoped>\n",
              "    .dataframe tbody tr th:only-of-type {\n",
              "        vertical-align: middle;\n",
              "    }\n",
              "\n",
              "    .dataframe tbody tr th {\n",
              "        vertical-align: top;\n",
              "    }\n",
              "\n",
              "    .dataframe thead th {\n",
              "        text-align: right;\n",
              "    }\n",
              "</style>\n",
              "<table border=\"1\" class=\"dataframe\">\n",
              "  <thead>\n",
              "    <tr style=\"text-align: right;\">\n",
              "      <th></th>\n",
              "      <th>user_a</th>\n",
              "      <th>user_b</th>\n",
              "    </tr>\n",
              "  </thead>\n",
              "  <tbody>\n",
              "    <tr>\n",
              "      <th>0</th>\n",
              "      <td>Thích mẫu người nào</td>\n",
              "      <td>Dễ thương, tóc dài, da trắng</td>\n",
              "    </tr>\n",
              "    <tr>\n",
              "      <th>1</th>\n",
              "      <td>Có crush ai không</td>\n",
              "      <td>Có 1 bạn cùng lớp</td>\n",
              "    </tr>\n",
              "    <tr>\n",
              "      <th>2</th>\n",
              "      <td>Tại sao lại thích bạn dó</td>\n",
              "      <td>Vì đáp ứng những yêu cầu của tao</td>\n",
              "    </tr>\n",
              "    <tr>\n",
              "      <th>3</th>\n",
              "      <td>Có hay nói chuyện không</td>\n",
              "      <td>Hay nhắn tin messenger</td>\n",
              "    </tr>\n",
              "    <tr>\n",
              "      <th>4</th>\n",
              "      <td>Bạn kia có bắt chuyện trước không</td>\n",
              "      <td>Có đôi khi</td>\n",
              "    </tr>\n",
              "    <tr>\n",
              "      <th>...</th>\n",
              "      <td>...</td>\n",
              "      <td>...</td>\n",
              "    </tr>\n",
              "    <tr>\n",
              "      <th>5895</th>\n",
              "      <td>Nhà mày bao nhiêu người?</td>\n",
              "      <td>7 8 người gì đó</td>\n",
              "    </tr>\n",
              "    <tr>\n",
              "      <th>5896</th>\n",
              "      <td>Có bao nhiêu anh chị em?</td>\n",
              "      <td>3 anh chị em</td>\n",
              "    </tr>\n",
              "    <tr>\n",
              "      <th>5897</th>\n",
              "      <td>Mày là em út hay anh cả?</td>\n",
              "      <td>Anh út</td>\n",
              "    </tr>\n",
              "    <tr>\n",
              "      <th>5898</th>\n",
              "      <td>Bố mày làm nghề gì?</td>\n",
              "      <td>chủ tịch giả nghèo và cái kết</td>\n",
              "    </tr>\n",
              "    <tr>\n",
              "      <th>5899</th>\n",
              "      <td>Chị mày làm ở đâu?</td>\n",
              "      <td>Tao mồ côi chị</td>\n",
              "    </tr>\n",
              "  </tbody>\n",
              "</table>\n",
              "<p>5899 rows × 2 columns</p>\n",
              "</div>\n",
              "      <button class=\"colab-df-convert\" onclick=\"convertToInteractive('df-c0962109-86ba-4423-a0de-401f72e76749')\"\n",
              "              title=\"Convert this dataframe to an interactive table.\"\n",
              "              style=\"display:none;\">\n",
              "        \n",
              "  <svg xmlns=\"http://www.w3.org/2000/svg\" height=\"24px\"viewBox=\"0 0 24 24\"\n",
              "       width=\"24px\">\n",
              "    <path d=\"M0 0h24v24H0V0z\" fill=\"none\"/>\n",
              "    <path d=\"M18.56 5.44l.94 2.06.94-2.06 2.06-.94-2.06-.94-.94-2.06-.94 2.06-2.06.94zm-11 1L8.5 8.5l.94-2.06 2.06-.94-2.06-.94L8.5 2.5l-.94 2.06-2.06.94zm10 10l.94 2.06.94-2.06 2.06-.94-2.06-.94-.94-2.06-.94 2.06-2.06.94z\"/><path d=\"M17.41 7.96l-1.37-1.37c-.4-.4-.92-.59-1.43-.59-.52 0-1.04.2-1.43.59L10.3 9.45l-7.72 7.72c-.78.78-.78 2.05 0 2.83L4 21.41c.39.39.9.59 1.41.59.51 0 1.02-.2 1.41-.59l7.78-7.78 2.81-2.81c.8-.78.8-2.07 0-2.86zM5.41 20L4 18.59l7.72-7.72 1.47 1.35L5.41 20z\"/>\n",
              "  </svg>\n",
              "      </button>\n",
              "      \n",
              "  <style>\n",
              "    .colab-df-container {\n",
              "      display:flex;\n",
              "      flex-wrap:wrap;\n",
              "      gap: 12px;\n",
              "    }\n",
              "\n",
              "    .colab-df-convert {\n",
              "      background-color: #E8F0FE;\n",
              "      border: none;\n",
              "      border-radius: 50%;\n",
              "      cursor: pointer;\n",
              "      display: none;\n",
              "      fill: #1967D2;\n",
              "      height: 32px;\n",
              "      padding: 0 0 0 0;\n",
              "      width: 32px;\n",
              "    }\n",
              "\n",
              "    .colab-df-convert:hover {\n",
              "      background-color: #E2EBFA;\n",
              "      box-shadow: 0px 1px 2px rgba(60, 64, 67, 0.3), 0px 1px 3px 1px rgba(60, 64, 67, 0.15);\n",
              "      fill: #174EA6;\n",
              "    }\n",
              "\n",
              "    [theme=dark] .colab-df-convert {\n",
              "      background-color: #3B4455;\n",
              "      fill: #D2E3FC;\n",
              "    }\n",
              "\n",
              "    [theme=dark] .colab-df-convert:hover {\n",
              "      background-color: #434B5C;\n",
              "      box-shadow: 0px 1px 3px 1px rgba(0, 0, 0, 0.15);\n",
              "      filter: drop-shadow(0px 1px 2px rgba(0, 0, 0, 0.3));\n",
              "      fill: #FFFFFF;\n",
              "    }\n",
              "  </style>\n",
              "\n",
              "      <script>\n",
              "        const buttonEl =\n",
              "          document.querySelector('#df-c0962109-86ba-4423-a0de-401f72e76749 button.colab-df-convert');\n",
              "        buttonEl.style.display =\n",
              "          google.colab.kernel.accessAllowed ? 'block' : 'none';\n",
              "\n",
              "        async function convertToInteractive(key) {\n",
              "          const element = document.querySelector('#df-c0962109-86ba-4423-a0de-401f72e76749');\n",
              "          const dataTable =\n",
              "            await google.colab.kernel.invokeFunction('convertToInteractive',\n",
              "                                                     [key], {});\n",
              "          if (!dataTable) return;\n",
              "\n",
              "          const docLinkHtml = 'Like what you see? Visit the ' +\n",
              "            '<a target=\"_blank\" href=https://colab.research.google.com/notebooks/data_table.ipynb>data table notebook</a>'\n",
              "            + ' to learn more about interactive tables.';\n",
              "          element.innerHTML = '';\n",
              "          dataTable['output_type'] = 'display_data';\n",
              "          await google.colab.output.renderOutput(dataTable, element);\n",
              "          const docLink = document.createElement('div');\n",
              "          docLink.innerHTML = docLinkHtml;\n",
              "          element.appendChild(docLink);\n",
              "        }\n",
              "      </script>\n",
              "    </div>\n",
              "  </div>\n",
              "  "
            ]
          },
          "metadata": {},
          "execution_count": 4
        }
      ],
      "source": [
        "# load data\n",
        "df = pd.read_csv('Data_ChatBot.csv', usecols=[1,2])\n",
        "df = df.dropna()\n",
        "df"
      ]
    },
    {
      "cell_type": "code",
      "execution_count": null,
      "metadata": {
        "execution": {
          "iopub.execute_input": "2022-05-19T04:06:02.794288Z",
          "iopub.status.busy": "2022-05-19T04:06:02.793891Z",
          "iopub.status.idle": "2022-05-19T04:06:02.799132Z",
          "shell.execute_reply": "2022-05-19T04:06:02.798366Z",
          "shell.execute_reply.started": "2022-05-19T04:06:02.794252Z"
        },
        "trusted": true,
        "id": "Z3U2s9cf9u4U"
      },
      "outputs": [],
      "source": [
        "# take out question and answer\n",
        "data_questions = df['user_a'].values\n",
        "data_answers = df['user_b'].values"
      ]
    },
    {
      "cell_type": "code",
      "execution_count": null,
      "metadata": {
        "execution": {
          "iopub.execute_input": "2022-05-19T04:06:02.801177Z",
          "iopub.status.busy": "2022-05-19T04:06:02.800342Z",
          "iopub.status.idle": "2022-05-19T04:06:02.808563Z",
          "shell.execute_reply": "2022-05-19T04:06:02.807877Z",
          "shell.execute_reply.started": "2022-05-19T04:06:02.801129Z"
        },
        "trusted": true,
        "id": "QQoR_gRH9u4U"
      },
      "outputs": [],
      "source": [
        "# hàm để xóa các ký tự đặc biệt\n",
        "def clean_text(sent):\n",
        "    return re.sub(r'[!“”\"#$%&\\'()*+,-./:;<=>?@[\\]^_`{|}~]', '', sent)\n",
        "\n",
        "# hàm để chuyển Word Segmentation cho tiếng Việt\n",
        "def clean_and_word_segmentation(sent):\n",
        "    return word_tokenize(clean_text(sent.lower()), format='text')"
      ]
    },
    {
      "cell_type": "code",
      "execution_count": null,
      "metadata": {
        "execution": {
          "iopub.execute_input": "2022-05-19T04:06:02.810427Z",
          "iopub.status.busy": "2022-05-19T04:06:02.809966Z",
          "iopub.status.idle": "2022-05-19T04:06:03.268935Z",
          "shell.execute_reply": "2022-05-19T04:06:03.268253Z",
          "shell.execute_reply.started": "2022-05-19T04:06:02.810392Z"
        },
        "trusted": true,
        "colab": {
          "base_uri": "https://localhost:8080/",
          "height": 621
        },
        "id": "QhEPonJM9u4V",
        "outputId": "3f92859c-7d10-42f3-898b-739b163e52d7"
      },
      "outputs": [
        {
          "output_type": "display_data",
          "data": {
            "text/plain": [
              "<Figure size 1080x720 with 1 Axes>"
            ],
            "image/png": "[encoded data removed]"
          },
          "metadata": {
            "needs_background": "light"
          }
        }
      ],
      "source": [
        "# vẽ biểu đồ thể hiện trực quan số lượng từ trong các questions\n",
        "count_words_ques = [len(clean_text(ques).split()) for ques in data_questions]\n",
        "counter_words_ques = Counter(count_words_ques)\n",
        "\n",
        "list_count_word = []\n",
        "list_count_sent = []\n",
        "for i in counter_words_ques.items():\n",
        "    #print(i)\n",
        "    list_count_word.append(i[0])\n",
        "    list_count_sent.append(i[1])\n",
        "    \n",
        "# ========== draw ========== #\n",
        "plt.figure(figsize=(15,10))\n",
        "plt.bar(list_count_word,list_count_sent)\n",
        "plt.title('The graph shows the number of words in sentences')\n",
        "plt.xlabel('Number of words in a sentence')\n",
        "plt.ylabel('Number of sentences')\n",
        "plt.xticks(range(min(list_count_word), max(list_count_word),2))\n",
        "plt.show()"
      ]
    },
    {
      "cell_type": "code",
      "execution_count": null,
      "metadata": {
        "execution": {
          "iopub.execute_input": "2022-05-19T04:06:03.270805Z",
          "iopub.status.busy": "2022-05-19T04:06:03.270396Z",
          "iopub.status.idle": "2022-05-19T04:06:03.276881Z",
          "shell.execute_reply": "2022-05-19T04:06:03.276169Z",
          "shell.execute_reply.started": "2022-05-19T04:06:03.270766Z"
        },
        "trusted": true,
        "colab": {
          "base_uri": "https://localhost:8080/"
        },
        "id": "OVm-0I1P9u4V",
        "outputId": "74c2381d-3ab2-422f-f538-52cd4a0b1848"
      },
      "outputs": [
        {
          "output_type": "execute_result",
          "data": {
            "text/plain": [
              "(5899, 5899)"
            ]
          },
          "metadata": {},
          "execution_count": 8
        }
      ],
      "source": [
        "len(count_words_ques), len(data_questions)"
      ]
    },
    {
      "cell_type": "code",
      "execution_count": null,
      "metadata": {
        "execution": {
          "iopub.execute_input": "2022-05-19T04:06:03.278836Z",
          "iopub.status.busy": "2022-05-19T04:06:03.278128Z",
          "iopub.status.idle": "2022-05-19T04:06:03.294327Z",
          "shell.execute_reply": "2022-05-19T04:06:03.293356Z",
          "shell.execute_reply.started": "2022-05-19T04:06:03.278798Z"
        },
        "trusted": true,
        "colab": {
          "base_uri": "https://localhost:8080/"
        },
        "id": "OqGwbd6q9u4W",
        "outputId": "aee7b0cd-a2e3-4270-8d21-369c855a0177"
      },
      "outputs": [
        {
          "output_type": "stream",
          "name": "stdout",
          "text": [
            "len sorted_ques: 5863\n",
            "len sorted_ans: 5863\n"
          ]
        },
        {
          "output_type": "execute_result",
          "data": {
            "text/plain": [
              "(['Thích mẫu người nào', 'Có crush ai không'],\n",
              " ['Dễ thương, tóc dài, da trắng', 'Có 1 bạn cùng lớp'])"
            ]
          },
          "metadata": {},
          "execution_count": 9
        }
      ],
      "source": [
        "# loại bỏ những câu có số lượng từ > 15 từ\n",
        "sorted_ques = []\n",
        "sorted_ans = []\n",
        "for i,count in enumerate(count_words_ques):\n",
        "    if count <= 15:\n",
        "        sorted_ques.append(data_questions[i])\n",
        "        sorted_ans.append(data_answers[i])\n",
        "        \n",
        "print('len sorted_ques:', len(sorted_ques))\n",
        "print('len sorted_ans:', len(sorted_ans))\n",
        "sorted_ques[:2], sorted_ans[:2]"
      ]
    },
    {
      "cell_type": "code",
      "execution_count": null,
      "metadata": {
        "execution": {
          "iopub.execute_input": "2022-05-19T04:06:03.296508Z",
          "iopub.status.busy": "2022-05-19T04:06:03.295946Z",
          "iopub.status.idle": "2022-05-19T04:06:06.533555Z",
          "shell.execute_reply": "2022-05-19T04:06:06.532697Z",
          "shell.execute_reply.started": "2022-05-19T04:06:03.296444Z"
        },
        "trusted": true,
        "colab": {
          "base_uri": "https://localhost:8080/"
        },
        "id": "Q7kGffvb9u4W",
        "outputId": "6dee1db0-6daf-4816-c215-eceec424efd1"
      },
      "outputs": [
        {
          "output_type": "execute_result",
          "data": {
            "text/plain": [
              "(['thích mẫu người nào', 'có crush ai không'],\n",
              " ['<START> dễ_thương tóc dài da trắng <END>',\n",
              "  '<START> có 1 bạn cùng lớp <END>'])"
            ]
          },
          "metadata": {},
          "execution_count": 10
        }
      ],
      "source": [
        "# làm sạch và Word Segmentation cho sorted_ques và sorted_ans\n",
        "questions = [clean_and_word_segmentation(ques) for ques in sorted_ques]\n",
        "answers = ['<START> '+ clean_and_word_segmentation(answ) + ' <END>' for answ in sorted_ans]\n",
        "\n",
        "questions[:2], answers[:2]"
      ]
    },
    {
      "cell_type": "code",
      "execution_count": null,
      "metadata": {
        "execution": {
          "iopub.execute_input": "2022-05-19T04:06:06.53815Z",
          "iopub.status.busy": "2022-05-19T04:06:06.537462Z",
          "iopub.status.idle": "2022-05-19T04:06:06.751362Z",
          "shell.execute_reply": "2022-05-19T04:06:06.750504Z",
          "shell.execute_reply.started": "2022-05-19T04:06:06.538107Z"
        },
        "trusted": true,
        "id": "6Qz1eNaR9u4X"
      },
      "outputs": [],
      "source": [
        "# tokenize cho questions và answers\n",
        "tokenizer = Tokenizer(filters='', lower=False)  # filters='' do dữ liệu đã được làm sạch và giữ lại word segmention\n",
        "tokenizer.fit_on_texts(questions + answers)\n",
        "\n",
        "# for word_index in tokenizer.word_index.items():\n",
        "#     print(word_index)"
      ]
    },
    {
      "cell_type": "code",
      "execution_count": null,
      "metadata": {
        "execution": {
          "iopub.execute_input": "2022-05-19T04:06:06.756453Z",
          "iopub.status.busy": "2022-05-19T04:06:06.755902Z",
          "iopub.status.idle": "2022-05-19T04:06:06.765782Z",
          "shell.execute_reply": "2022-05-19T04:06:06.765112Z",
          "shell.execute_reply.started": "2022-05-19T04:06:06.756413Z"
        },
        "trusted": true,
        "colab": {
          "base_uri": "https://localhost:8080/"
        },
        "id": "oq_amFNo9u4Y",
        "outputId": "7b9a3628-3c74-4d74-ed36-ffac55db4ed0"
      },
      "outputs": [
        {
          "output_type": "stream",
          "name": "stdout",
          "text": [
            "Vocabulary size : 3552\n"
          ]
        }
      ],
      "source": [
        "VOCAB_SIZE = len(tokenizer.word_index) + 1\n",
        "print(f'Vocabulary size : {VOCAB_SIZE}')"
      ]
    },
    {
      "cell_type": "code",
      "execution_count": null,
      "metadata": {
        "execution": {
          "iopub.execute_input": "2022-05-19T04:06:06.773812Z",
          "iopub.status.busy": "2022-05-19T04:06:06.77178Z",
          "iopub.status.idle": "2022-05-19T04:06:06.893705Z",
          "shell.execute_reply": "2022-05-19T04:06:06.893019Z",
          "shell.execute_reply.started": "2022-05-19T04:06:06.773776Z"
        },
        "trusted": true,
        "colab": {
          "base_uri": "https://localhost:8080/"
        },
        "id": "3Ml0Xru-9u4Y",
        "outputId": "582356af-23dd-4748-94dc-e3a790d958ff"
      },
      "outputs": [
        {
          "output_type": "stream",
          "name": "stdout",
          "text": [
            "(5863, 15)\n",
            "thích mẫu người nào\n",
            "[11, 271, 26, 13]\n",
            "[ 11 271  26  13   0   0   0   0   0   0   0   0   0   0   0]\n"
          ]
        }
      ],
      "source": [
        "# encoder\n",
        "tokenized_questions = tokenizer.texts_to_sequences(questions)\n",
        "maxlen_questions = 15\n",
        "encoder_inp = pad_sequences(tokenized_questions,maxlen=maxlen_questions,padding='post')\n",
        "\n",
        "print(encoder_inp.shape)\n",
        "print(questions[0])\n",
        "print(tokenized_questions[0])\n",
        "print(encoder_inp[0])"
      ]
    },
    {
      "cell_type": "code",
      "execution_count": null,
      "metadata": {
        "execution": {
          "iopub.execute_input": "2022-05-19T04:06:06.899666Z",
          "iopub.status.busy": "2022-05-19T04:06:06.897714Z",
          "iopub.status.idle": "2022-05-19T04:06:07.034356Z",
          "shell.execute_reply": "2022-05-19T04:06:07.033681Z",
          "shell.execute_reply.started": "2022-05-19T04:06:06.899626Z"
        },
        "trusted": true,
        "colab": {
          "base_uri": "https://localhost:8080/"
        },
        "id": "l_RFghvP9u4Y",
        "outputId": "7861676f-5c4c-4b2f-b2f6-384cdb540fac"
      },
      "outputs": [
        {
          "output_type": "stream",
          "name": "stdout",
          "text": [
            "(5863, 43)\n",
            "<START> dễ_thương tóc dài da trắng <END>\n",
            "[1, 318, 1263, 369, 2447, 471, 2]\n",
            "[   1  318 1263  369 2447  471    2    0    0    0    0    0    0    0\n",
            "    0    0    0    0    0    0    0    0    0    0    0    0    0    0\n",
            "    0    0    0    0    0    0    0    0    0    0    0    0    0    0\n",
            "    0]\n"
          ]
        }
      ],
      "source": [
        "# decoder\n",
        "tokenized_answers = tokenizer.texts_to_sequences(answers)\n",
        "maxlen_answers = np.max([len(x) for x in tokenized_answers])\n",
        "decoder_inp = pad_sequences(tokenized_answers, maxlen=maxlen_answers, padding='post')\n",
        "\n",
        "print(decoder_inp.shape)\n",
        "print(answers[0])\n",
        "print(tokenized_answers[0])\n",
        "print(decoder_inp[0])"
      ]
    },
    {
      "cell_type": "code",
      "execution_count": null,
      "metadata": {
        "execution": {
          "iopub.execute_input": "2022-05-19T04:06:07.040086Z",
          "iopub.status.busy": "2022-05-19T04:06:07.038194Z",
          "iopub.status.idle": "2022-05-19T04:06:07.801136Z",
          "shell.execute_reply": "2022-05-19T04:06:07.800335Z",
          "shell.execute_reply.started": "2022-05-19T04:06:07.040034Z"
        },
        "trusted": true,
        "colab": {
          "base_uri": "https://localhost:8080/"
        },
        "id": "fa1txDLe9u4Z",
        "outputId": "d1fad539-86d9-454f-ed05-e9be00351880"
      },
      "outputs": [
        {
          "output_type": "stream",
          "name": "stdout",
          "text": [
            "(5863, 43, 3552)\n",
            "[318, 1263, 369, 2447, 471, 2]\n",
            "[ 318 1263  369 2447  471    2    0    0    0    0    0    0    0    0\n",
            "    0    0    0    0    0    0    0    0    0    0    0    0    0    0\n",
            "    0    0    0    0    0    0    0    0    0    0    0    0    0    0\n",
            "    0]\n",
            "[[0. 0. 0. ... 0. 0. 0.]\n",
            " [0. 0. 0. ... 0. 0. 0.]\n",
            " [0. 0. 0. ... 0. 0. 0.]\n",
            " ...\n",
            " [1. 0. 0. ... 0. 0. 0.]\n",
            " [1. 0. 0. ... 0. 0. 0.]\n",
            " [1. 0. 0. ... 0. 0. 0.]]\n"
          ]
        }
      ],
      "source": [
        "for i in range(len(tokenized_answers)):\n",
        "    tokenized_answers[i] = tokenized_answers[i][1:]\n",
        "    \n",
        "padded_answers = pad_sequences(tokenized_answers, maxlen=maxlen_answers, padding='post')\n",
        "decoder_final_output = to_categorical(padded_answers, VOCAB_SIZE)\n",
        "\n",
        "print(decoder_final_output.shape)\n",
        "print(tokenized_answers[0])\n",
        "print(padded_answers[0])\n",
        "print(decoder_final_output[0])"
      ]
    },
    {
      "cell_type": "code",
      "execution_count": null,
      "metadata": {
        "execution": {
          "iopub.execute_input": "2022-05-19T04:06:07.802525Z",
          "iopub.status.busy": "2022-05-19T04:06:07.802264Z",
          "iopub.status.idle": "2022-05-19T04:06:10.551895Z",
          "shell.execute_reply": "2022-05-19T04:06:10.551117Z",
          "shell.execute_reply.started": "2022-05-19T04:06:07.802472Z"
        },
        "trusted": true,
        "id": "Eh_GlozZ9u4Z"
      },
      "outputs": [],
      "source": [
        "enc_inputs = Input(shape=(None,))\n",
        "enc_embedding = Embedding(VOCAB_SIZE, 200, mask_zero=True)(enc_inputs)\n",
        "_, state_h, state_c = LSTM(200, return_state=True)(enc_embedding)\n",
        "enc_states = [state_h, state_c]\n",
        "\n",
        "dec_inputs = Input(shape=(None,))\n",
        "dec_embedding = Embedding(VOCAB_SIZE, 200, mask_zero=True)(dec_inputs)\n",
        "dec_lstm = LSTM(200, return_state=True, return_sequences=True)\n",
        "\n",
        "dec_outputs, _, _ = dec_lstm(dec_embedding, initial_state=enc_states)\n",
        "dec_dense = Dense(VOCAB_SIZE, activation='softmax')\n",
        "output = dec_dense(dec_outputs)"
      ]
    },
    {
      "cell_type": "code",
      "execution_count": null,
      "metadata": {
        "execution": {
          "iopub.execute_input": "2022-05-19T04:06:10.553625Z",
          "iopub.status.busy": "2022-05-19T04:06:10.553353Z",
          "iopub.status.idle": "2022-05-19T04:06:10.579608Z",
          "shell.execute_reply": "2022-05-19T04:06:10.578892Z",
          "shell.execute_reply.started": "2022-05-19T04:06:10.553588Z"
        },
        "trusted": true,
        "colab": {
          "base_uri": "https://localhost:8080/"
        },
        "id": "98Z60kH89u4Z",
        "outputId": "fa7e9eb0-9ecf-4043-a9b4-9aab469ce679"
      },
      "outputs": [
        {
          "output_type": "stream",
          "name": "stdout",
          "text": [
            "Model: \"model\"\n",
            "__________________________________________________________________________________________________\n",
            " Layer (type)                   Output Shape         Param #     Connected to                     \n",
            "==================================================================================================\n",
            " input_1 (InputLayer)           [(None, None)]       0           []                               \n",
            "                                                                                                  \n",
            " input_2 (InputLayer)           [(None, None)]       0           []                               \n",
            "                                                                                                  \n",
            " embedding (Embedding)          (None, None, 200)    710400      ['input_1[0][0]']                \n",
            "                                                                                                  \n",
            " embedding_1 (Embedding)        (None, None, 200)    710400      ['input_2[0][0]']                \n",
            "                                                                                                  \n",
            " lstm (LSTM)                    [(None, 200),        320800      ['embedding[0][0]']              \n",
            "                                 (None, 200),                                                     \n",
            "                                 (None, 200)]                                                     \n",
            "                                                                                                  \n",
            " lstm_1 (LSTM)                  [(None, None, 200),  320800      ['embedding_1[0][0]',            \n",
            "                                 (None, 200),                     'lstm[0][1]',                   \n",
            "                                 (None, 200)]                     'lstm[0][2]']                   \n",
            "                                                                                                  \n",
            " dense (Dense)                  (None, None, 3552)   713952      ['lstm_1[0][0]']                 \n",
            "                                                                                                  \n",
            "==================================================================================================\n",
            "Total params: 2,776,352\n",
            "Trainable params: 2,776,352\n",
            "Non-trainable params: 0\n",
            "__________________________________________________________________________________________________\n"
          ]
        }
      ],
      "source": [
        "model = Model([enc_inputs, dec_inputs], output)\n",
        "model.compile(optimizer=RMSprop(), loss='categorical_crossentropy')\n",
        "model.summary()"
      ]
    },
    {
      "cell_type": "code",
      "execution_count": null,
      "metadata": {
        "execution": {
          "iopub.execute_input": "2022-05-19T04:06:10.582011Z",
          "iopub.status.busy": "2022-05-19T04:06:10.581748Z",
          "iopub.status.idle": "2022-05-19T04:29:54.188463Z",
          "shell.execute_reply": "2022-05-19T04:29:54.1877Z",
          "shell.execute_reply.started": "2022-05-19T04:06:10.581976Z"
        },
        "trusted": true,
        "colab": {
          "base_uri": "https://localhost:8080/"
        },
        "id": "6b_nAJo59u4Z",
        "outputId": "3d3dbfa9-b255-4c89-8795-afc3fc50cae1"
      },
      "outputs": [
        {
          "output_type": "stream",
          "name": "stdout",
          "text": [
            "Epoch 1/150\n",
            "118/118 [==============================] - 79s 562ms/step - loss: 0.5372\n",
            "Epoch 2/150\n",
            "118/118 [==============================] - 66s 563ms/step - loss: 0.4625\n",
            "Epoch 3/150\n",
            "118/118 [==============================] - 66s 562ms/step - loss: 0.4477\n",
            "Epoch 4/150\n",
            "118/118 [==============================] - 66s 560ms/step - loss: 0.4346\n",
            "Epoch 5/150\n",
            "118/118 [==============================] - 66s 557ms/step - loss: 0.4208\n",
            "Epoch 6/150\n",
            "118/118 [==============================] - 63s 532ms/step - loss: 0.4083\n",
            "Epoch 7/150\n",
            "118/118 [==============================] - 63s 530ms/step - loss: 0.3975\n",
            "Epoch 8/150\n",
            "118/118 [==============================] - 63s 532ms/step - loss: 0.3872\n",
            "Epoch 9/150\n",
            "118/118 [==============================] - 62s 528ms/step - loss: 0.3777\n",
            "Epoch 10/150\n",
            "118/118 [==============================] - 64s 539ms/step - loss: 0.3675\n",
            "Epoch 11/150\n",
            "118/118 [==============================] - 63s 530ms/step - loss: 0.3575\n",
            "Epoch 12/150\n",
            "118/118 [==============================] - 60s 512ms/step - loss: 0.3479\n",
            "Epoch 13/150\n",
            "118/118 [==============================] - 61s 515ms/step - loss: 0.3383\n",
            "Epoch 14/150\n",
            "118/118 [==============================] - 60s 512ms/step - loss: 0.3283\n",
            "Epoch 15/150\n",
            "118/118 [==============================] - 58s 494ms/step - loss: 0.3188\n",
            "Epoch 16/150\n",
            "118/118 [==============================] - 58s 495ms/step - loss: 0.3095\n",
            "Epoch 17/150\n",
            "118/118 [==============================] - 59s 497ms/step - loss: 0.3001\n",
            "Epoch 18/150\n",
            "118/118 [==============================] - 58s 494ms/step - loss: 0.2905\n",
            "Epoch 19/150\n",
            "118/118 [==============================] - 58s 494ms/step - loss: 0.2815\n",
            "Epoch 20/150\n",
            "118/118 [==============================] - 58s 492ms/step - loss: 0.2724\n",
            "Epoch 21/150\n",
            "118/118 [==============================] - 57s 485ms/step - loss: 0.2634\n",
            "Epoch 22/150\n",
            "118/118 [==============================] - 57s 486ms/step - loss: 0.2549\n",
            "Epoch 23/150\n",
            "118/118 [==============================] - 58s 488ms/step - loss: 0.2467\n",
            "Epoch 24/150\n",
            "118/118 [==============================] - 57s 487ms/step - loss: 0.2385\n",
            "Epoch 25/150\n",
            "118/118 [==============================] - 58s 487ms/step - loss: 0.2302\n",
            "Epoch 26/150\n",
            "118/118 [==============================] - 57s 486ms/step - loss: 0.2223\n",
            "Epoch 27/150\n",
            "118/118 [==============================] - 57s 486ms/step - loss: 0.2145\n",
            "Epoch 28/150\n",
            "118/118 [==============================] - 57s 487ms/step - loss: 0.2067\n",
            "Epoch 29/150\n",
            "118/118 [==============================] - 57s 485ms/step - loss: 0.1995\n",
            "Epoch 30/150\n",
            "118/118 [==============================] - 58s 489ms/step - loss: 0.1922\n",
            "Epoch 31/150\n",
            "118/118 [==============================] - 58s 488ms/step - loss: 0.1853\n",
            "Epoch 32/150\n",
            "118/118 [==============================] - 57s 487ms/step - loss: 0.1784\n",
            "Epoch 33/150\n",
            "118/118 [==============================] - 57s 486ms/step - loss: 0.1720\n",
            "Epoch 34/150\n",
            "118/118 [==============================] - 58s 487ms/step - loss: 0.1655\n",
            "Epoch 35/150\n",
            "118/118 [==============================] - 57s 486ms/step - loss: 0.1595\n",
            "Epoch 36/150\n",
            "118/118 [==============================] - 57s 486ms/step - loss: 0.1534\n",
            "Epoch 37/150\n",
            "118/118 [==============================] - 58s 488ms/step - loss: 0.1478\n",
            "Epoch 38/150\n",
            "118/118 [==============================] - 58s 487ms/step - loss: 0.1423\n",
            "Epoch 39/150\n",
            "118/118 [==============================] - 57s 486ms/step - loss: 0.1368\n",
            "Epoch 40/150\n",
            "118/118 [==============================] - 57s 487ms/step - loss: 0.1317\n",
            "Epoch 41/150\n",
            "118/118 [==============================] - 58s 489ms/step - loss: 0.1267\n",
            "Epoch 42/150\n",
            "118/118 [==============================] - 57s 487ms/step - loss: 0.1219\n",
            "Epoch 43/150\n",
            "118/118 [==============================] - 58s 488ms/step - loss: 0.1175\n",
            "Epoch 44/150\n",
            "118/118 [==============================] - 57s 487ms/step - loss: 0.1126\n",
            "Epoch 45/150\n",
            "118/118 [==============================] - 57s 485ms/step - loss: 0.1086\n",
            "Epoch 46/150\n",
            "118/118 [==============================] - 57s 486ms/step - loss: 0.1048\n",
            "Epoch 47/150\n",
            "118/118 [==============================] - 58s 487ms/step - loss: 0.1011\n",
            "Epoch 48/150\n",
            "118/118 [==============================] - 57s 487ms/step - loss: 0.0971\n",
            "Epoch 49/150\n",
            "118/118 [==============================] - 57s 487ms/step - loss: 0.0939\n",
            "Epoch 50/150\n",
            "118/118 [==============================] - 58s 489ms/step - loss: 0.0905\n",
            "Epoch 51/150\n",
            "118/118 [==============================] - 58s 492ms/step - loss: 0.0873\n",
            "Epoch 52/150\n",
            "118/118 [==============================] - 58s 488ms/step - loss: 0.0841\n",
            "Epoch 53/150\n",
            "118/118 [==============================] - 58s 490ms/step - loss: 0.0817\n",
            "Epoch 54/150\n",
            "118/118 [==============================] - 59s 496ms/step - loss: 0.0788\n",
            "Epoch 55/150\n",
            "118/118 [==============================] - 58s 494ms/step - loss: 0.0764\n",
            "Epoch 56/150\n",
            "118/118 [==============================] - 58s 492ms/step - loss: 0.0739\n",
            "Epoch 57/150\n",
            "118/118 [==============================] - 58s 493ms/step - loss: 0.0718\n",
            "Epoch 58/150\n",
            "118/118 [==============================] - 58s 491ms/step - loss: 0.0692\n",
            "Epoch 59/150\n",
            "118/118 [==============================] - 58s 489ms/step - loss: 0.0672\n",
            "Epoch 60/150\n",
            "118/118 [==============================] - 58s 488ms/step - loss: 0.0653\n",
            "Epoch 61/150\n",
            "118/118 [==============================] - 58s 487ms/step - loss: 0.0633\n",
            "Epoch 62/150\n",
            "118/118 [==============================] - 58s 489ms/step - loss: 0.0618\n",
            "Epoch 63/150\n",
            "118/118 [==============================] - 58s 488ms/step - loss: 0.0601\n",
            "Epoch 64/150\n",
            "118/118 [==============================] - 58s 489ms/step - loss: 0.0584\n",
            "Epoch 65/150\n",
            "118/118 [==============================] - 58s 488ms/step - loss: 0.0567\n",
            "Epoch 66/150\n",
            "118/118 [==============================] - 58s 488ms/step - loss: 0.0559\n",
            "Epoch 67/150\n",
            "118/118 [==============================] - 57s 486ms/step - loss: 0.0542\n",
            "Epoch 68/150\n",
            "118/118 [==============================] - 57s 486ms/step - loss: 0.0531\n",
            "Epoch 69/150\n",
            "118/118 [==============================] - 57s 485ms/step - loss: 0.0520\n",
            "Epoch 70/150\n",
            "118/118 [==============================] - 58s 488ms/step - loss: 0.0507\n",
            "Epoch 71/150\n",
            "118/118 [==============================] - 58s 489ms/step - loss: 0.0492\n",
            "Epoch 72/150\n",
            "118/118 [==============================] - 58s 489ms/step - loss: 0.0480\n",
            "Epoch 73/150\n",
            "118/118 [==============================] - 58s 488ms/step - loss: 0.0469\n",
            "Epoch 74/150\n",
            "118/118 [==============================] - 57s 486ms/step - loss: 0.0460\n",
            "Epoch 75/150\n",
            "118/118 [==============================] - 57s 487ms/step - loss: 0.0451\n",
            "Epoch 76/150\n",
            "118/118 [==============================] - 58s 489ms/step - loss: 0.0441\n",
            "Epoch 77/150\n",
            "118/118 [==============================] - 58s 491ms/step - loss: 0.0435\n",
            "Epoch 78/150\n",
            "118/118 [==============================] - 58s 491ms/step - loss: 0.0427\n",
            "Epoch 79/150\n",
            "118/118 [==============================] - 58s 491ms/step - loss: 0.0419\n",
            "Epoch 80/150\n",
            "118/118 [==============================] - 58s 492ms/step - loss: 0.0414\n",
            "Epoch 81/150\n",
            "118/118 [==============================] - 58s 489ms/step - loss: 0.0407\n",
            "Epoch 82/150\n",
            "118/118 [==============================] - 58s 487ms/step - loss: 0.0400\n",
            "Epoch 83/150\n",
            "118/118 [==============================] - 58s 488ms/step - loss: 0.0393\n",
            "Epoch 84/150\n",
            "118/118 [==============================] - 58s 489ms/step - loss: 0.0389\n",
            "Epoch 85/150\n",
            "118/118 [==============================] - 58s 491ms/step - loss: 0.0381\n",
            "Epoch 86/150\n",
            "118/118 [==============================] - 57s 487ms/step - loss: 0.0376\n",
            "Epoch 87/150\n",
            "118/118 [==============================] - 58s 487ms/step - loss: 0.0369\n",
            "Epoch 88/150\n",
            "118/118 [==============================] - 58s 490ms/step - loss: 0.0363\n",
            "Epoch 89/150\n",
            "118/118 [==============================] - 58s 489ms/step - loss: 0.0358\n",
            "Epoch 90/150\n",
            "118/118 [==============================] - 58s 490ms/step - loss: 0.0353\n",
            "Epoch 91/150\n",
            "118/118 [==============================] - 57s 487ms/step - loss: 0.0347\n",
            "Epoch 92/150\n",
            "118/118 [==============================] - 58s 489ms/step - loss: 0.0340\n",
            "Epoch 93/150\n",
            "118/118 [==============================] - 58s 489ms/step - loss: 0.0341\n",
            "Epoch 94/150\n",
            "118/118 [==============================] - 58s 489ms/step - loss: 0.0333\n",
            "Epoch 95/150\n",
            "118/118 [==============================] - 58s 488ms/step - loss: 0.0329\n",
            "Epoch 96/150\n",
            "118/118 [==============================] - 58s 489ms/step - loss: 0.0326\n",
            "Epoch 97/150\n",
            "118/118 [==============================] - 58s 488ms/step - loss: 0.0318\n",
            "Epoch 98/150\n",
            "118/118 [==============================] - 57s 484ms/step - loss: 0.0313\n",
            "Epoch 99/150\n",
            "118/118 [==============================] - 58s 488ms/step - loss: 0.0309\n",
            "Epoch 100/150\n",
            "118/118 [==============================] - 58s 489ms/step - loss: 0.0304\n",
            "Epoch 101/150\n",
            "118/118 [==============================] - 58s 488ms/step - loss: 0.0300\n",
            "Epoch 102/150\n",
            "118/118 [==============================] - 58s 487ms/step - loss: 0.0295\n",
            "Epoch 103/150\n",
            "118/118 [==============================] - 58s 488ms/step - loss: 0.0291\n",
            "Epoch 104/150\n",
            "118/118 [==============================] - 57s 487ms/step - loss: 0.0288\n",
            "Epoch 105/150\n",
            "118/118 [==============================] - 57s 487ms/step - loss: 0.0284\n",
            "Epoch 106/150\n",
            "118/118 [==============================] - 58s 489ms/step - loss: 0.0280\n",
            "Epoch 107/150\n",
            "118/118 [==============================] - 58s 493ms/step - loss: 0.0276\n",
            "Epoch 108/150\n",
            "118/118 [==============================] - 58s 493ms/step - loss: 0.0272\n",
            "Epoch 109/150\n",
            "118/118 [==============================] - 58s 491ms/step - loss: 0.0268\n",
            "Epoch 110/150\n",
            "118/118 [==============================] - 58s 489ms/step - loss: 0.0266\n",
            "Epoch 111/150\n",
            "118/118 [==============================] - 58s 493ms/step - loss: 0.0262\n",
            "Epoch 112/150\n",
            "118/118 [==============================] - 58s 495ms/step - loss: 0.0258\n",
            "Epoch 113/150\n",
            "118/118 [==============================] - 58s 492ms/step - loss: 0.0255\n",
            "Epoch 114/150\n",
            "118/118 [==============================] - 58s 492ms/step - loss: 0.0252\n",
            "Epoch 115/150\n",
            "118/118 [==============================] - 58s 489ms/step - loss: 0.0248\n",
            "Epoch 116/150\n",
            "118/118 [==============================] - 58s 491ms/step - loss: 0.0246\n",
            "Epoch 117/150\n",
            "118/118 [==============================] - 58s 488ms/step - loss: 0.0242\n",
            "Epoch 118/150\n",
            "118/118 [==============================] - 57s 486ms/step - loss: 0.0239\n",
            "Epoch 119/150\n",
            "118/118 [==============================] - 58s 488ms/step - loss: 0.0236\n",
            "Epoch 120/150\n",
            "118/118 [==============================] - 58s 492ms/step - loss: 0.0234\n",
            "Epoch 121/150\n",
            "118/118 [==============================] - 58s 491ms/step - loss: 0.0229\n",
            "Epoch 122/150\n",
            "118/118 [==============================] - 58s 490ms/step - loss: 0.0229\n",
            "Epoch 123/150\n",
            "118/118 [==============================] - 58s 491ms/step - loss: 0.0226\n",
            "Epoch 124/150\n",
            "118/118 [==============================] - 58s 488ms/step - loss: 0.0224\n",
            "Epoch 125/150\n",
            "118/118 [==============================] - 58s 488ms/step - loss: 0.0223\n",
            "Epoch 126/150\n",
            "118/118 [==============================] - 57s 487ms/step - loss: 0.0219\n",
            "Epoch 127/150\n",
            "118/118 [==============================] - 58s 489ms/step - loss: 0.0218\n",
            "Epoch 128/150\n",
            "118/118 [==============================] - 57s 486ms/step - loss: 0.0215\n",
            "Epoch 129/150\n",
            "118/118 [==============================] - 58s 487ms/step - loss: 0.0212\n",
            "Epoch 130/150\n",
            "118/118 [==============================] - 58s 488ms/step - loss: 0.0211\n",
            "Epoch 131/150\n",
            "118/118 [==============================] - 58s 488ms/step - loss: 0.0210\n",
            "Epoch 132/150\n",
            "118/118 [==============================] - 58s 488ms/step - loss: 0.0207\n",
            "Epoch 133/150\n",
            "118/118 [==============================] - 57s 486ms/step - loss: 0.0206\n",
            "Epoch 134/150\n",
            "118/118 [==============================] - 57s 487ms/step - loss: 0.0208\n",
            "Epoch 135/150\n",
            "118/118 [==============================] - 57s 486ms/step - loss: 0.0205\n",
            "Epoch 136/150\n",
            "118/118 [==============================] - 57s 486ms/step - loss: 0.0203\n",
            "Epoch 137/150\n",
            "118/118 [==============================] - 58s 488ms/step - loss: 0.0200\n",
            "Epoch 138/150\n",
            "118/118 [==============================] - 58s 490ms/step - loss: 0.0199\n",
            "Epoch 139/150\n",
            "118/118 [==============================] - 58s 491ms/step - loss: 0.0198\n",
            "Epoch 140/150\n",
            "118/118 [==============================] - 58s 489ms/step - loss: 0.0195\n",
            "Epoch 141/150\n",
            "118/118 [==============================] - 58s 489ms/step - loss: 0.0196\n",
            "Epoch 142/150\n",
            "118/118 [==============================] - 58s 493ms/step - loss: 0.0194\n",
            "Epoch 143/150\n",
            "118/118 [==============================] - 58s 487ms/step - loss: 0.0193\n",
            "Epoch 144/150\n",
            "118/118 [==============================] - 57s 486ms/step - loss: 0.0191\n",
            "Epoch 145/150\n",
            "118/118 [==============================] - 57s 484ms/step - loss: 0.0191\n",
            "Epoch 146/150\n",
            "118/118 [==============================] - 57s 486ms/step - loss: 0.0189\n",
            "Epoch 147/150\n",
            "118/118 [==============================] - 58s 488ms/step - loss: 0.0188\n",
            "Epoch 148/150\n",
            "118/118 [==============================] - 57s 487ms/step - loss: 0.0188\n",
            "Epoch 149/150\n",
            "118/118 [==============================] - 58s 490ms/step - loss: 0.0187\n",
            "Epoch 150/150\n",
            "118/118 [==============================] - 58s 490ms/step - loss: 0.0185\n"
          ]
        }
      ],
      "source": [
        "model.fit([encoder_inp, decoder_inp],\n",
        "           decoder_final_output,\n",
        "           batch_size=50,\n",
        "           epochs=150)\n",
        "\n",
        "#\n",
        "# batch_size là 150\n",
        "# epochs là 300\n",
        "model.save('sequence2sequence_lstm.h5')"
      ]
    },
    {
      "cell_type": "code",
      "execution_count": null,
      "metadata": {
        "execution": {
          "iopub.execute_input": "2022-05-19T04:29:54.189908Z",
          "iopub.status.busy": "2022-05-19T04:29:54.18965Z",
          "iopub.status.idle": "2022-05-19T04:29:54.878025Z",
          "shell.execute_reply": "2022-05-19T04:29:54.877273Z",
          "shell.execute_reply.started": "2022-05-19T04:29:54.189862Z"
        },
        "trusted": true,
        "colab": {
          "base_uri": "https://localhost:8080/"
        },
        "id": "tLk_h3ya9u4a",
        "outputId": "57d73cc6-f3b3-4892-e52a-f341723bbbed"
      },
      "outputs": [
        {
          "output_type": "stream",
          "name": "stdout",
          "text": [
            "Inference decoder:\n",
            "Model: \"model_1\"\n",
            "__________________________________________________________________________________________________\n",
            " Layer (type)                   Output Shape         Param #     Connected to                     \n",
            "==================================================================================================\n",
            " input_2 (InputLayer)           [(None, None)]       0           []                               \n",
            "                                                                                                  \n",
            " embedding_1 (Embedding)        (None, None, 200)    710400      ['input_2[0][0]']                \n",
            "                                                                                                  \n",
            " input_3 (InputLayer)           [(None, 200)]        0           []                               \n",
            "                                                                                                  \n",
            " input_4 (InputLayer)           [(None, 200)]        0           []                               \n",
            "                                                                                                  \n",
            " lstm_1 (LSTM)                  [(None, None, 200),  320800      ['embedding_1[0][0]',            \n",
            "                                 (None, 200),                     'input_3[0][0]',                \n",
            "                                 (None, 200)]                     'input_4[0][0]']                \n",
            "                                                                                                  \n",
            " dense (Dense)                  (None, None, 3552)   713952      ['lstm_1[1][0]']                 \n",
            "                                                                                                  \n",
            "==================================================================================================\n",
            "Total params: 1,745,152\n",
            "Trainable params: 1,745,152\n",
            "Non-trainable params: 0\n",
            "__________________________________________________________________________________________________\n",
            "Inference encoder:\n",
            "Model: \"model_2\"\n",
            "_________________________________________________________________\n",
            " Layer (type)                Output Shape              Param #   \n",
            "=================================================================\n",
            " input_1 (InputLayer)        [(None, None)]            0         \n",
            "                                                                 \n",
            " embedding (Embedding)       (None, None, 200)         710400    \n",
            "                                                                 \n",
            " lstm (LSTM)                 [(None, 200),             320800    \n",
            "                              (None, 200),                       \n",
            "                              (None, 200)]                       \n",
            "                                                                 \n",
            "=================================================================\n",
            "Total params: 1,031,200\n",
            "Trainable params: 1,031,200\n",
            "Non-trainable params: 0\n",
            "_________________________________________________________________\n"
          ]
        }
      ],
      "source": [
        "def make_inference_models():\n",
        "    dec_state_input_h = Input(shape=(200,))\n",
        "    dec_state_input_c = Input(shape=(200,))\n",
        "    dec_states_inputs = [dec_state_input_h, dec_state_input_c]\n",
        "    dec_outputs, state_h, state_c = dec_lstm(dec_embedding,\n",
        "                                            initial_state=dec_states_inputs)\n",
        "    dec_states = [state_h, state_c]\n",
        "    dec_outputs = dec_dense(dec_outputs)\n",
        "    dec_model = Model(\n",
        "        inputs=[dec_inputs] + dec_states_inputs,\n",
        "        outputs = [dec_outputs] + dec_states)\n",
        "    print('Inference decoder:')\n",
        "    dec_model.summary()\n",
        "    print('Inference encoder:')\n",
        "    enc_model = Model(inputs=enc_inputs, outputs=enc_states)\n",
        "    enc_model.summary()\n",
        "    return enc_model, dec_model\n",
        "\n",
        "def str_to_tokens(sentence):\n",
        "    #words = sentence.lower().split()\n",
        "    words = clean_and_word_segmentation(sentence).split()\n",
        "    tokens_list = list()\n",
        "    for current_word in words:\n",
        "        result = tokenizer.word_index.get(current_word)\n",
        "        if result != '':\n",
        "            tokens_list.append(result)\n",
        "    return pad_sequences([tokens_list], maxlen=maxlen_questions,padding='post')\n",
        "\n",
        "enc_model, dec_model = make_inference_models()"
      ]
    },
    {
      "cell_type": "code",
      "execution_count": null,
      "metadata": {
        "execution": {
          "iopub.execute_input": "2022-05-19T04:29:54.879534Z",
          "iopub.status.busy": "2022-05-19T04:29:54.87926Z",
          "iopub.status.idle": "2022-05-19T04:29:54.893439Z",
          "shell.execute_reply": "2022-05-19T04:29:54.892512Z",
          "shell.execute_reply.started": "2022-05-19T04:29:54.879495Z"
        },
        "trusted": true,
        "id": "OeNKbf1o9u4a"
      },
      "outputs": [],
      "source": [
        "def chatbot():\n",
        "    print('Bot: Xin chào!')\n",
        "    \n",
        "    while True:\n",
        "        input_question = input('User:')\n",
        "\n",
        "        if input_question == 'bye' or input_question == 'tạm biệt':\n",
        "            print('Bot: thế mà bạn bảo bạn yêu tôi, bạn thích tôi, mà bạn bỏ rơi tôi, huhu!')\n",
        "            break\n",
        "        states_values = enc_model.predict(str_to_tokens(input_question))\n",
        "        empty_target_seq = np.zeros((1,1))\n",
        "        empty_target_seq[0,0] = tokenizer.word_index['<START>']\n",
        "        stop_condition = False\n",
        "        decoded_translation = ''\n",
        "        while not stop_condition:\n",
        "            dec_outputs, h, c = dec_model.predict([empty_target_seq]+states_values)\n",
        "            sampled_word_index = np.argmax(dec_outputs[0,-1, :])\n",
        "            sampled_word = None\n",
        "            for word, index in tokenizer.word_index.items():\n",
        "                if sampled_word_index == index:\n",
        "                    if word != '<END>':\n",
        "                        decoded_translation += f'{word} '\n",
        "                    sampled_word = word\n",
        "\n",
        "            if sampled_word == '<END>' or len(decoded_translation.split()) > maxlen_answers:\n",
        "                stop_condition = True\n",
        "            empty_target_seq = np.zeros((1,1))\n",
        "            empty_target_seq[0,0] = sampled_word_index\n",
        "            states_values = [h,c]\n",
        "\n",
        "        print('Bot:', decoded_translation)"
      ]
    },
    {
      "cell_type": "code",
      "execution_count": null,
      "metadata": {
        "execution": {
          "iopub.execute_input": "2022-05-19T04:29:54.89686Z",
          "iopub.status.busy": "2022-05-19T04:29:54.896632Z",
          "iopub.status.idle": "2022-05-19T04:35:08.052376Z",
          "shell.execute_reply": "2022-05-19T04:35:08.051656Z",
          "shell.execute_reply.started": "2022-05-19T04:29:54.896825Z"
        },
        "trusted": true,
        "colab": {
          "base_uri": "https://localhost:8080/"
        },
        "id": "vK0omYn-9u4a",
        "outputId": "a243704b-698f-4035-ccb7-38d567012925"
      },
      "outputs": [
        {
          "output_type": "stream",
          "name": "stdout",
          "text": [
            "Bot: Xin chào!\n",
            "User:chào cái gì\n",
            "Bot: thích ăn \n",
            "User:bye\n",
            "Bot: thế mà bạn bảo bạn yêu tôi, bạn thích tôi, mà bạn bỏ rơi tôi, huhu!\n"
          ]
        }
      ],
      "source": [
        "# chat with bot\n",
        "chatbot()"
      ]
    }
  ],
  "metadata": {
    "kernelspec": {
      "display_name": "Python 3",
      "language": "python",
      "name": "python3"
    },
    "language_info": {
      "codemirror_mode": {
        "name": "ipython",
        "version": 3
      },
      "file_extension": ".py",
      "mimetype": "text/x-python",
      "name": "python",
      "nbconvert_exporter": "python",
      "pygments_lexer": "ipython3",
      "version": "3.6.4"
    },
    "colab": {
      "provenance": []
    }
  },
  "nbformat": 4,
  "nbformat_minor": 0
}