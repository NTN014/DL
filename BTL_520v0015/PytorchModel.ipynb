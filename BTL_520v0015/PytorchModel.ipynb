{
  "nbformat": 4,
  "nbformat_minor": 0,
  "metadata": {
    "colab": {
      "provenance": []
    },
    "kernelspec": {
      "name": "python3",
      "display_name": "Python 3"
    },
    "language_info": {
      "name": "python"
    },
    "accelerator": "GPU",
    "gpuClass": "standard"
  },
  "cells": [
    {
      "cell_type": "code",
      "execution_count": 42,
      "metadata": {
        "id": "xCBRJoZdLO9F"
      },
      "outputs": [],
      "source": [
        "import torch \n",
        "from PIL import Image\n",
        "from torch import nn, save, load\n",
        "from torch.optim import Adam\n",
        "from torch.utils.data import DataLoader\n",
        "from torchvision import datasets\n",
        "from torchvision.transforms import ToTensor\n",
        "import matplotlib.pyplot as plt"
      ]
    },
    {
      "cell_type": "code",
      "source": [
        "train = datasets.MNIST(root=\"data\", download=True, train=True, transform=ToTensor())\n",
        "dataset = DataLoader(train, 32)"
      ],
      "metadata": {
        "id": "WZK-SwqKR8a9"
      },
      "execution_count": 43,
      "outputs": []
    },
    {
      "cell_type": "code",
      "source": [
        "class ImageClassifier(nn.Module): \n",
        "    def __init__(self):\n",
        "        super().__init__()\n",
        "        self.model = nn.Sequential(\n",
        "            nn.Conv2d(1, 32, (3,3)), \n",
        "            nn.ReLU(),\n",
        "            nn.Conv2d(32, 64, (3,3)), \n",
        "            nn.ReLU(),\n",
        "            nn.Conv2d(64, 64, (3,3)), \n",
        "            nn.ReLU(),\n",
        "            nn.Flatten(), \n",
        "            nn.Linear(64*(28-6)*(28-6), 10)  \n",
        "        )\n",
        "\n",
        "    def forward(self, x): \n",
        "        return self.model(x)"
      ],
      "metadata": {
        "id": "Q-lMyqloSAiH"
      },
      "execution_count": 44,
      "outputs": []
    },
    {
      "cell_type": "code",
      "source": [
        "clf = ImageClassifier().to('cuda')\n",
        "opt = Adam(clf.parameters(), lr=1e-3)\n",
        "loss_fn = nn.CrossEntropyLoss() "
      ],
      "metadata": {
        "id": "kYbgW1VkSBIx"
      },
      "execution_count": 45,
      "outputs": []
    },
    {
      "cell_type": "code",
      "source": [
        "if __name__ == \"__main__\": \n",
        "    for epoch in range(10): # train for 10 epochs\n",
        "        for batch in dataset: \n",
        "            X,y = batch \n",
        "            X, y = X.to('cuda'), y.to('cuda') \n",
        "            yhat = clf(X) \n",
        "            loss = loss_fn(yhat, y) \n",
        "\n",
        "            # Apply backprop \n",
        "            opt.zero_grad()\n",
        "            loss.backward() \n",
        "            opt.step() \n",
        "\n",
        "        print(f\"Epoch:{epoch} loss is {loss.item()}\")\n",
        "    \n",
        "    with open('model_state.pt', 'wb') as f: \n",
        "        save(clf.state_dict(), f) \n",
        "\n",
        "    with open('model_state.pt', 'rb') as f: \n",
        "        clf.load_state_dict(load(f))  "
      ],
      "metadata": {
        "colab": {
          "base_uri": "https://localhost:8080/"
        },
        "id": "-bHu5YCYSDAZ",
        "outputId": "34d182fe-bc27-4e2e-9ec4-2174ef5b5bc6"
      },
      "execution_count": 50,
      "outputs": [
        {
          "output_type": "stream",
          "name": "stdout",
          "text": [
            "Epoch:0 loss is 0.020957771688699722\n",
            "Epoch:1 loss is 0.0008636052953079343\n",
            "Epoch:2 loss is 0.0058151111006736755\n",
            "Epoch:3 loss is 0.002033083001151681\n",
            "Epoch:4 loss is 0.0006616867030970752\n",
            "Epoch:5 loss is 8.228480510297231e-06\n",
            "Epoch:6 loss is 2.4314276743098162e-05\n",
            "Epoch:7 loss is 4.082778559677536e-06\n",
            "Epoch:8 loss is 7.748529924356262e-07\n",
            "Epoch:9 loss is 8.717061064089648e-07\n"
          ]
        }
      ]
    },
    {
      "cell_type": "code",
      "source": [
        "img = Image.open('img_3.jpg') \n",
        "plt.imshow(img, cmap = 'gray')\n",
        "img_tensor = ToTensor()(img).unsqueeze(0).to('cuda')\n",
        "print(torch.argmax(clf(img_tensor)))"
      ],
      "metadata": {
        "colab": {
          "base_uri": "https://localhost:8080/",
          "height": 282
        },
        "id": "mIlS2_nKSIiC",
        "outputId": "7055444b-8ff9-4e9a-af92-cd54b5467f10"
      },
      "execution_count": 52,
      "outputs": [
        {
          "output_type": "stream",
          "name": "stdout",
          "text": [
            "tensor(9, device='cuda:0')\n"
          ]
        },
        {
          "output_type": "display_data",
          "data": {
            "text/plain": [
              "<Figure size 432x288 with 1 Axes>"
            ],
            "image/png": "[encoded data removed]"
          },
          "metadata": {
            "needs_background": "light"
          }
        }
      ]
    }
  ]
}