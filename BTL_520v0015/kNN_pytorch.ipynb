{
  "nbformat": 4,
  "nbformat_minor": 0,
  "metadata": {
    "colab": {
      "provenance": []
    },
    "kernelspec": {
      "name": "python3",
      "display_name": "Python 3"
    },
    "language_info": {
      "name": "python"
    },
    "accelerator": "GPU",
    "gpuClass": "standard"
  },
  "cells": [
    {
      "cell_type": "code",
      "execution_count": 1,
      "metadata": {
        "id": "0YvbrOYQVAb7"
      },
      "outputs": [],
      "source": [
        "import torch\n",
        "import numpy as np\n",
        "from sklearn.datasets import make_classification\n",
        "from sklearn.model_selection import train_test_split\n",
        "from sklearn.metrics import accuracy_score\n"
      ]
    },
    {
      "cell_type": "code",
      "source": [
        "# Generate some random data\n",
        "X, y = make_classification(n_samples=1000, n_features=10, n_informative=5, random_state=42)"
      ],
      "metadata": {
        "id": "5oSsuJvlVNn9"
      },
      "execution_count": 2,
      "outputs": []
    },
    {
      "cell_type": "code",
      "source": [
        "# Split the data into train and test sets\n",
        "X_train, X_test, y_train, y_test = train_test_split(X, y, test_size=0.2, random_state=42)"
      ],
      "metadata": {
        "id": "sAD9LfCZVQaa"
      },
      "execution_count": 3,
      "outputs": []
    },
    {
      "cell_type": "code",
      "source": [
        "# Convert the data to PyTorch tensors\n",
        "X_train = torch.from_numpy(X_train).float()\n",
        "X_test = torch.from_numpy(X_test).float()\n",
        "y_train = torch.from_numpy(y_train).long()\n",
        "y_test = torch.from_numpy(y_test).long()"
      ],
      "metadata": {
        "id": "R5ee7KnTVRix"
      },
      "execution_count": 4,
      "outputs": []
    },
    {
      "cell_type": "code",
      "source": [
        "# Define the KNN model\n",
        "class KNN(torch.nn.Module):\n",
        "    def __init__(self, k=3):\n",
        "        super(KNN, self).__init__()\n",
        "        self.k = k\n",
        "        \n",
        "    def forward(self, x_train, y_train, x_test):\n",
        "        num_test = x_test.shape[0]\n",
        "        num_train = x_train.shape[0]\n",
        "        distances = torch.sum((x_test[:, None, :] - x_train[None, :, :])**2, axis=-1)\n",
        "        _, indices = torch.topk(distances, k=self.k, largest=False)\n",
        "        knn_labels = y_train[indices]\n",
        "        y_pred = torch.mode(knn_labels, dim=1).values\n",
        "        return y_pred"
      ],
      "metadata": {
        "id": "hrScQQQ_VT3r"
      },
      "execution_count": 5,
      "outputs": []
    },
    {
      "cell_type": "code",
      "source": [
        "# Train and evaluate the model\n",
        "model = KNN(k=5)\n",
        "y_pred = model.forward(X_train, y_train, X_test)\n",
        "accuracy = accuracy_score(y_test.numpy(), y_pred.numpy())\n",
        "print(f\"Accuracy: {accuracy}\")"
      ],
      "metadata": {
        "colab": {
          "base_uri": "https://localhost:8080/"
        },
        "id": "pooll5QxVU0u",
        "outputId": "d83b69a1-b6ea-4185-afe7-9b9972ac5c7c"
      },
      "execution_count": 6,
      "outputs": [
        {
          "output_type": "stream",
          "name": "stdout",
          "text": [
            "Accuracy: 0.915\n"
          ]
        }
      ]
    }
  ]
}