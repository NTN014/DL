{
  "nbformat": 4,
  "nbformat_minor": 0,
  "metadata": {
    "colab": {
      "provenance": []
    },
    "kernelspec": {
      "name": "python3",
      "display_name": "Python 3"
    },
    "language_info": {
      "name": "python"
    }
  },
  "cells": [
    {
      "cell_type": "code",
      "execution_count": 1,
      "metadata": {
        "id": "jQM-GbnxS2CE"
      },
      "outputs": [],
      "source": [
        "# LSTM for international airline passengers problem with regression framing\n",
        "import numpy as np\n",
        "import matplotlib.pyplot as plt\n",
        "from pandas import read_csv\n",
        "import math\n",
        "import tensorflow as tf\n",
        "from tensorflow.keras.models import Sequential\n",
        "from tensorflow.keras.layers import Dense\n",
        "from tensorflow.keras.layers import LSTM\n",
        "from sklearn.preprocessing import MinMaxScaler\n",
        "from sklearn.metrics import mean_squared_error"
      ]
    },
    {
      "cell_type": "code",
      "source": [
        "# convert an array of values into a dataset matrix\n",
        "def create_dataset(dataset, look_back=1):\n",
        " dataX, dataY = [], []\n",
        " for i in range(len(dataset)-look_back-1):\n",
        "  a = dataset[i:(i+look_back), 0]\n",
        "  dataX.append(a)\n",
        "  dataY.append(dataset[i + look_back, 0])\n",
        " return np.array(dataX), np.array(dataY)"
      ],
      "metadata": {
        "id": "oz86oYz8UI3q"
      },
      "execution_count": 3,
      "outputs": []
    },
    {
      "cell_type": "code",
      "source": [
        "# fix random seed for reproducibility\n",
        "tf.random.set_seed(7)"
      ],
      "metadata": {
        "id": "l7cG0DxxUKY5"
      },
      "execution_count": 4,
      "outputs": []
    },
    {
      "cell_type": "code",
      "source": [
        "# load the dataset\n",
        "dataframe = read_csv('Electric_Production.csv', usecols=[1], engine='python')\n",
        "dataset = dataframe.values\n",
        "dataset = dataset.astype('float32')"
      ],
      "metadata": {
        "id": "sLS6IzJbUMTe"
      },
      "execution_count": 9,
      "outputs": []
    },
    {
      "cell_type": "code",
      "source": [
        "# normalize the dataset\n",
        "scaler = MinMaxScaler(feature_range=(0, 1))\n",
        "dataset = scaler.fit_transform(dataset)"
      ],
      "metadata": {
        "id": "xOG3mxWtUNxi"
      },
      "execution_count": 10,
      "outputs": []
    },
    {
      "cell_type": "code",
      "source": [
        "# split into train and test sets\n",
        "train_size = int(len(dataset) * 0.67)\n",
        "test_size = len(dataset) - train_size\n",
        "train, test = dataset[0:train_size,:], dataset[train_size:len(dataset),:]"
      ],
      "metadata": {
        "id": "84nDsLeeUQ5D"
      },
      "execution_count": 11,
      "outputs": []
    },
    {
      "cell_type": "code",
      "source": [
        "# reshape into X=t and Y=t+1\n",
        "look_back = 1\n",
        "trainX, trainY = create_dataset(train, look_back)\n",
        "testX, testY = create_dataset(test, look_back)"
      ],
      "metadata": {
        "id": "5mWjZPNlUdgo"
      },
      "execution_count": 12,
      "outputs": []
    },
    {
      "cell_type": "code",
      "source": [
        "# reshape input to be [samples, time steps, features]\n",
        "trainX = np.reshape(trainX, (trainX.shape[0], 1, trainX.shape[1]))\n",
        "testX = np.reshape(testX, (testX.shape[0], 1, testX.shape[1]))"
      ],
      "metadata": {
        "id": "d1WnyvZaVRJ8"
      },
      "execution_count": 13,
      "outputs": []
    },
    {
      "cell_type": "code",
      "source": [
        "# create and fit the LSTM network\n",
        "model = Sequential()\n",
        "model.add(LSTM(4, input_shape=(1, look_back)))\n",
        "model.add(Dense(1))\n",
        "model.compile(loss='mean_squared_error', optimizer='adam')\n",
        "model.fit(trainX, trainY, epochs=100, batch_size=1, verbose=2)"
      ],
      "metadata": {
        "colab": {
          "base_uri": "https://localhost:8080/"
        },
        "id": "dMLsv9u7VT2E",
        "outputId": "98e4481e-f9f3-48f6-f668-5bd9d1fcc9cc"
      },
      "execution_count": 14,
      "outputs": [
        {
          "output_type": "stream",
          "name": "stdout",
          "text": [
            "Epoch 1/100\n",
            "263/263 - 4s - loss: 0.0538 - 4s/epoch - 15ms/step\n",
            "Epoch 2/100\n",
            "263/263 - 0s - loss: 0.0176 - 464ms/epoch - 2ms/step\n",
            "Epoch 3/100\n",
            "263/263 - 1s - loss: 0.0150 - 519ms/epoch - 2ms/step\n",
            "Epoch 4/100\n",
            "263/263 - 1s - loss: 0.0127 - 514ms/epoch - 2ms/step\n",
            "Epoch 5/100\n",
            "263/263 - 0s - loss: 0.0109 - 464ms/epoch - 2ms/step\n",
            "Epoch 6/100\n",
            "263/263 - 0s - loss: 0.0096 - 481ms/epoch - 2ms/step\n",
            "Epoch 7/100\n",
            "263/263 - 0s - loss: 0.0089 - 487ms/epoch - 2ms/step\n",
            "Epoch 8/100\n",
            "263/263 - 1s - loss: 0.0085 - 518ms/epoch - 2ms/step\n",
            "Epoch 9/100\n",
            "263/263 - 0s - loss: 0.0081 - 475ms/epoch - 2ms/step\n",
            "Epoch 10/100\n",
            "263/263 - 1s - loss: 0.0081 - 505ms/epoch - 2ms/step\n",
            "Epoch 11/100\n",
            "263/263 - 1s - loss: 0.0079 - 538ms/epoch - 2ms/step\n",
            "Epoch 12/100\n",
            "263/263 - 0s - loss: 0.0081 - 481ms/epoch - 2ms/step\n",
            "Epoch 13/100\n",
            "263/263 - 1s - loss: 0.0080 - 799ms/epoch - 3ms/step\n",
            "Epoch 14/100\n",
            "263/263 - 2s - loss: 0.0080 - 2s/epoch - 6ms/step\n",
            "Epoch 15/100\n",
            "263/263 - 1s - loss: 0.0080 - 984ms/epoch - 4ms/step\n",
            "Epoch 16/100\n",
            "263/263 - 0s - loss: 0.0080 - 457ms/epoch - 2ms/step\n",
            "Epoch 17/100\n",
            "263/263 - 0s - loss: 0.0079 - 465ms/epoch - 2ms/step\n",
            "Epoch 18/100\n",
            "263/263 - 0s - loss: 0.0079 - 451ms/epoch - 2ms/step\n",
            "Epoch 19/100\n",
            "263/263 - 1s - loss: 0.0080 - 517ms/epoch - 2ms/step\n",
            "Epoch 20/100\n",
            "263/263 - 1s - loss: 0.0080 - 525ms/epoch - 2ms/step\n",
            "Epoch 21/100\n",
            "263/263 - 0s - loss: 0.0079 - 483ms/epoch - 2ms/step\n",
            "Epoch 22/100\n",
            "263/263 - 0s - loss: 0.0079 - 423ms/epoch - 2ms/step\n",
            "Epoch 23/100\n",
            "263/263 - 1s - loss: 0.0079 - 521ms/epoch - 2ms/step\n",
            "Epoch 24/100\n",
            "263/263 - 0s - loss: 0.0081 - 485ms/epoch - 2ms/step\n",
            "Epoch 25/100\n",
            "263/263 - 1s - loss: 0.0080 - 520ms/epoch - 2ms/step\n",
            "Epoch 26/100\n",
            "263/263 - 0s - loss: 0.0079 - 469ms/epoch - 2ms/step\n",
            "Epoch 27/100\n",
            "263/263 - 1s - loss: 0.0079 - 544ms/epoch - 2ms/step\n",
            "Epoch 28/100\n",
            "263/263 - 0s - loss: 0.0079 - 496ms/epoch - 2ms/step\n",
            "Epoch 29/100\n",
            "263/263 - 1s - loss: 0.0079 - 528ms/epoch - 2ms/step\n",
            "Epoch 30/100\n",
            "263/263 - 0s - loss: 0.0079 - 475ms/epoch - 2ms/step\n",
            "Epoch 31/100\n",
            "263/263 - 1s - loss: 0.0079 - 504ms/epoch - 2ms/step\n",
            "Epoch 32/100\n",
            "263/263 - 0s - loss: 0.0079 - 498ms/epoch - 2ms/step\n",
            "Epoch 33/100\n",
            "263/263 - 1s - loss: 0.0080 - 502ms/epoch - 2ms/step\n",
            "Epoch 34/100\n",
            "263/263 - 0s - loss: 0.0079 - 469ms/epoch - 2ms/step\n",
            "Epoch 35/100\n",
            "263/263 - 1s - loss: 0.0080 - 644ms/epoch - 2ms/step\n",
            "Epoch 36/100\n",
            "263/263 - 1s - loss: 0.0079 - 850ms/epoch - 3ms/step\n",
            "Epoch 37/100\n",
            "263/263 - 1s - loss: 0.0080 - 887ms/epoch - 3ms/step\n",
            "Epoch 38/100\n",
            "263/263 - 1s - loss: 0.0079 - 705ms/epoch - 3ms/step\n",
            "Epoch 39/100\n",
            "263/263 - 1s - loss: 0.0080 - 507ms/epoch - 2ms/step\n",
            "Epoch 40/100\n",
            "263/263 - 0s - loss: 0.0079 - 472ms/epoch - 2ms/step\n",
            "Epoch 41/100\n",
            "263/263 - 1s - loss: 0.0078 - 536ms/epoch - 2ms/step\n",
            "Epoch 42/100\n",
            "263/263 - 1s - loss: 0.0078 - 1s/epoch - 5ms/step\n",
            "Epoch 43/100\n",
            "263/263 - 1s - loss: 0.0080 - 1s/epoch - 4ms/step\n",
            "Epoch 44/100\n",
            "263/263 - 1s - loss: 0.0079 - 1s/epoch - 4ms/step\n",
            "Epoch 45/100\n",
            "263/263 - 1s - loss: 0.0079 - 986ms/epoch - 4ms/step\n",
            "Epoch 46/100\n",
            "263/263 - 0s - loss: 0.0080 - 473ms/epoch - 2ms/step\n",
            "Epoch 47/100\n",
            "263/263 - 0s - loss: 0.0079 - 471ms/epoch - 2ms/step\n",
            "Epoch 48/100\n",
            "263/263 - 0s - loss: 0.0079 - 487ms/epoch - 2ms/step\n",
            "Epoch 49/100\n",
            "263/263 - 0s - loss: 0.0079 - 461ms/epoch - 2ms/step\n",
            "Epoch 50/100\n",
            "263/263 - 0s - loss: 0.0080 - 498ms/epoch - 2ms/step\n",
            "Epoch 51/100\n",
            "263/263 - 0s - loss: 0.0078 - 476ms/epoch - 2ms/step\n",
            "Epoch 52/100\n",
            "263/263 - 0s - loss: 0.0077 - 472ms/epoch - 2ms/step\n",
            "Epoch 53/100\n",
            "263/263 - 1s - loss: 0.0079 - 509ms/epoch - 2ms/step\n",
            "Epoch 54/100\n",
            "263/263 - 1s - loss: 0.0078 - 845ms/epoch - 3ms/step\n",
            "Epoch 55/100\n",
            "263/263 - 2s - loss: 0.0078 - 2s/epoch - 6ms/step\n",
            "Epoch 56/100\n",
            "263/263 - 1s - loss: 0.0078 - 1s/epoch - 4ms/step\n",
            "Epoch 57/100\n",
            "263/263 - 0s - loss: 0.0078 - 479ms/epoch - 2ms/step\n",
            "Epoch 58/100\n",
            "263/263 - 1s - loss: 0.0080 - 518ms/epoch - 2ms/step\n",
            "Epoch 59/100\n",
            "263/263 - 1s - loss: 0.0078 - 562ms/epoch - 2ms/step\n",
            "Epoch 60/100\n",
            "263/263 - 0s - loss: 0.0078 - 493ms/epoch - 2ms/step\n",
            "Epoch 61/100\n",
            "263/263 - 0s - loss: 0.0078 - 475ms/epoch - 2ms/step\n",
            "Epoch 62/100\n",
            "263/263 - 1s - loss: 0.0078 - 505ms/epoch - 2ms/step\n",
            "Epoch 63/100\n",
            "263/263 - 1s - loss: 0.0078 - 505ms/epoch - 2ms/step\n",
            "Epoch 64/100\n",
            "263/263 - 1s - loss: 0.0078 - 809ms/epoch - 3ms/step\n",
            "Epoch 65/100\n",
            "263/263 - 1s - loss: 0.0078 - 677ms/epoch - 3ms/step\n",
            "Epoch 66/100\n",
            "263/263 - 0s - loss: 0.0078 - 476ms/epoch - 2ms/step\n",
            "Epoch 67/100\n",
            "263/263 - 0s - loss: 0.0079 - 495ms/epoch - 2ms/step\n",
            "Epoch 68/100\n",
            "263/263 - 1s - loss: 0.0078 - 504ms/epoch - 2ms/step\n",
            "Epoch 69/100\n",
            "263/263 - 1s - loss: 0.0078 - 509ms/epoch - 2ms/step\n",
            "Epoch 70/100\n",
            "263/263 - 0s - loss: 0.0078 - 468ms/epoch - 2ms/step\n",
            "Epoch 71/100\n",
            "263/263 - 0s - loss: 0.0078 - 491ms/epoch - 2ms/step\n",
            "Epoch 72/100\n",
            "263/263 - 0s - loss: 0.0078 - 482ms/epoch - 2ms/step\n",
            "Epoch 73/100\n",
            "263/263 - 1s - loss: 0.0079 - 537ms/epoch - 2ms/step\n",
            "Epoch 74/100\n",
            "263/263 - 1s - loss: 0.0078 - 629ms/epoch - 2ms/step\n",
            "Epoch 75/100\n",
            "263/263 - 1s - loss: 0.0077 - 1s/epoch - 4ms/step\n",
            "Epoch 76/100\n",
            "263/263 - 2s - loss: 0.0078 - 2s/epoch - 6ms/step\n",
            "Epoch 77/100\n",
            "263/263 - 1s - loss: 0.0077 - 522ms/epoch - 2ms/step\n",
            "Epoch 78/100\n",
            "263/263 - 1s - loss: 0.0078 - 503ms/epoch - 2ms/step\n",
            "Epoch 79/100\n",
            "263/263 - 0s - loss: 0.0077 - 492ms/epoch - 2ms/step\n",
            "Epoch 80/100\n",
            "263/263 - 1s - loss: 0.0078 - 511ms/epoch - 2ms/step\n",
            "Epoch 81/100\n",
            "263/263 - 0s - loss: 0.0078 - 493ms/epoch - 2ms/step\n",
            "Epoch 82/100\n",
            "263/263 - 0s - loss: 0.0078 - 489ms/epoch - 2ms/step\n",
            "Epoch 83/100\n",
            "263/263 - 0s - loss: 0.0077 - 490ms/epoch - 2ms/step\n",
            "Epoch 84/100\n",
            "263/263 - 1s - loss: 0.0078 - 531ms/epoch - 2ms/step\n",
            "Epoch 85/100\n",
            "263/263 - 0s - loss: 0.0078 - 482ms/epoch - 2ms/step\n",
            "Epoch 86/100\n",
            "263/263 - 0s - loss: 0.0078 - 499ms/epoch - 2ms/step\n",
            "Epoch 87/100\n",
            "263/263 - 1s - loss: 0.0077 - 594ms/epoch - 2ms/step\n",
            "Epoch 88/100\n",
            "263/263 - 1s - loss: 0.0078 - 862ms/epoch - 3ms/step\n",
            "Epoch 89/100\n",
            "263/263 - 1s - loss: 0.0078 - 975ms/epoch - 4ms/step\n",
            "Epoch 90/100\n",
            "263/263 - 1s - loss: 0.0079 - 1s/epoch - 4ms/step\n",
            "Epoch 91/100\n",
            "263/263 - 2s - loss: 0.0078 - 2s/epoch - 6ms/step\n",
            "Epoch 92/100\n",
            "263/263 - 2s - loss: 0.0077 - 2s/epoch - 7ms/step\n",
            "Epoch 93/100\n",
            "263/263 - 1s - loss: 0.0078 - 1s/epoch - 5ms/step\n",
            "Epoch 94/100\n",
            "263/263 - 1s - loss: 0.0078 - 797ms/epoch - 3ms/step\n",
            "Epoch 95/100\n",
            "263/263 - 1s - loss: 0.0078 - 982ms/epoch - 4ms/step\n",
            "Epoch 96/100\n",
            "263/263 - 1s - loss: 0.0077 - 1s/epoch - 5ms/step\n",
            "Epoch 97/100\n",
            "263/263 - 1s - loss: 0.0078 - 695ms/epoch - 3ms/step\n",
            "Epoch 98/100\n",
            "263/263 - 1s - loss: 0.0078 - 516ms/epoch - 2ms/step\n",
            "Epoch 99/100\n",
            "263/263 - 1s - loss: 0.0077 - 500ms/epoch - 2ms/step\n",
            "Epoch 100/100\n",
            "263/263 - 1s - loss: 0.0077 - 519ms/epoch - 2ms/step\n"
          ]
        },
        {
          "output_type": "execute_result",
          "data": {
            "text/plain": [
              "<keras.callbacks.History at 0x7f4c40a2c280>"
            ]
          },
          "metadata": {},
          "execution_count": 14
        }
      ]
    },
    {
      "cell_type": "code",
      "source": [
        "# make predictions\n",
        "trainPredict = model.predict(trainX)\n",
        "testPredict = model.predict(testX)"
      ],
      "metadata": {
        "colab": {
          "base_uri": "https://localhost:8080/"
        },
        "id": "fom7wqRrVXXX",
        "outputId": "c065d9c7-e3d6-44da-ca91-b56f02905904"
      },
      "execution_count": 15,
      "outputs": [
        {
          "output_type": "stream",
          "name": "stdout",
          "text": [
            "9/9 [==============================] - 1s 4ms/step\n",
            "5/5 [==============================] - 0s 3ms/step\n"
          ]
        }
      ]
    },
    {
      "cell_type": "code",
      "source": [
        "# invert predictions\n",
        "trainPredict = scaler.inverse_transform(trainPredict)\n",
        "trainY = scaler.inverse_transform([trainY])\n",
        "testPredict = scaler.inverse_transform(testPredict)\n",
        "testY = scaler.inverse_transform([testY])"
      ],
      "metadata": {
        "id": "-383IWslVbXw"
      },
      "execution_count": 16,
      "outputs": []
    },
    {
      "cell_type": "code",
      "source": [
        "# calculate root mean squared error\n",
        "trainScore = np.sqrt(mean_squared_error(trainY[0], trainPredict[:,0]))\n",
        "print('Train Score: %.2f RMSE' % (trainScore))\n",
        "testScore = np.sqrt(mean_squared_error(testY[0], testPredict[:,0]))\n",
        "print('Test Score: %.2f RMSE' % (testScore))"
      ],
      "metadata": {
        "colab": {
          "base_uri": "https://localhost:8080/"
        },
        "id": "nrHled65Vd1a",
        "outputId": "5015fb81-63a2-41a7-c8bb-5c6424a6723f"
      },
      "execution_count": 17,
      "outputs": [
        {
          "output_type": "stream",
          "name": "stdout",
          "text": [
            "Train Score: 6.54 RMSE\n",
            "Test Score: 8.76 RMSE\n"
          ]
        }
      ]
    },
    {
      "cell_type": "code",
      "source": [
        "# shift train predictions for plotting\n",
        "trainPredictPlot = np.empty_like(dataset)\n",
        "trainPredictPlot[:, :] = np.nan\n",
        "trainPredictPlot[look_back:len(trainPredict)+look_back, :] = trainPredict"
      ],
      "metadata": {
        "id": "O3w5tu9TVfUu"
      },
      "execution_count": 18,
      "outputs": []
    },
    {
      "cell_type": "code",
      "source": [
        "# shift test predictions for plotting\n",
        "testPredictPlot = np.empty_like(dataset)\n",
        "testPredictPlot[:, :] = np.nan\n",
        "testPredictPlot[len(trainPredict)+(look_back*2)+1:len(dataset)-1, :] = testPredict"
      ],
      "metadata": {
        "id": "HymjY5kgVg-c"
      },
      "execution_count": 19,
      "outputs": []
    },
    {
      "cell_type": "code",
      "source": [
        "# plot baseline and predictions\n",
        "plt.plot(scaler.inverse_transform(dataset))\n",
        "plt.plot(trainPredictPlot)\n",
        "plt.plot(testPredictPlot)\n",
        "plt.show()"
      ],
      "metadata": {
        "colab": {
          "base_uri": "https://localhost:8080/",
          "height": 265
        },
        "id": "JgLUyJkQVivO",
        "outputId": "fc24d231-2b9b-4680-9962-1ac5a0843476"
      },
      "execution_count": 20,
      "outputs": [
        {
          "output_type": "display_data",
          "data": {
            "text/plain": [
              "<Figure size 432x288 with 1 Axes>"
            ],
            "image/png": "[encoded data removed]"
          },
          "metadata": {
            "needs_background": "light"
          }
        }
      ]
    }
  ]
}