{
  "nbformat": 4,
  "nbformat_minor": 0,
  "metadata": {
    "colab": {
      "provenance": []
    },
    "kernelspec": {
      "name": "python3",
      "display_name": "Python 3"
    },
    "accelerator": "GPU",
    "gpuClass": "standard"
  },
  "cells": [
    {
      "cell_type": "code",
      "metadata": {
        "id": "8Wh-m0eoBgju",
        "outputId": "a165ce1e-d1f9-4eea-cf3b-8edb719c4f6a",
        "colab": {
          "base_uri": "https://localhost:8080/"
        }
      },
      "source": [
        "import tensorflow as tf\n",
        "import numpy as np\n",
        "import matplotlib.pyplot as plt\n",
        "import random\n",
        "import os\n",
        "import io\n",
        "import string\n",
        "import re\n",
        "from sklearn.model_selection import train_test_split\n",
        "\n",
        "from google.colab import drive\n",
        "drive.mount('/content/drive')\n"
      ],
      "execution_count": null,
      "outputs": [
        {
          "output_type": "stream",
          "name": "stdout",
          "text": [
            "Mounted at /content/drive\n"
          ]
        }
      ]
    },
    {
      "cell_type": "code",
      "metadata": {
        "id": "78ngDseDBtL1"
      },
      "source": [
        "# os.chdir(\"./drive/My Drive/Colab/Neural Machine learning with Attention/\")"
      ],
      "execution_count": null,
      "outputs": []
    },
    {
      "cell_type": "code",
      "metadata": {
        "id": "IEgYDNd9Bgjy"
      },
      "source": [
        "# tf.enable_eager_execution()"
      ],
      "execution_count": null,
      "outputs": []
    },
    {
      "cell_type": "code",
      "metadata": {
        "id": "Ctwg1Cz0Bgj0"
      },
      "source": [
        "en_filename = \"/content/drive/MyDrive/train.en.txt\"\n",
        "vi_filename = \"/content/drive/MyDrive/train.vi.txt\"\n",
        "\n",
        "raw_en_lines = open(en_filename, encoding='utf-8').read().strip().split(\"\\n\")\n",
        "raw_vi_lines = open(vi_filename, encoding='utf-8').read().strip().split(\"\\n\")"
      ],
      "execution_count": null,
      "outputs": []
    },
    {
      "cell_type": "code",
      "metadata": {
        "id": "g8YFiaD0Bgj2"
      },
      "source": [
        "exclude = list(string.punctuation) + list(string.digits)\n",
        "\n",
        "def preprocess(sentence):\n",
        "    sent = sentence.lower()\n",
        "    sent = sent.strip()\n",
        "    sent = re.sub(\"'\", \" \", sent)\n",
        "    sent = re.sub(\"\\s+\", \" \", sent)\n",
        "    sent = ''.join([char for char in sent if char not in exclude])\n",
        "    sent = \"<start> \" + sent + \" <end>\"\n",
        "    return sent"
      ],
      "execution_count": null,
      "outputs": []
    },
    {
      "cell_type": "code",
      "metadata": {
        "id": "ns3dSIsdBgj4",
        "outputId": "d0c78457-3f9b-4c1f-faca-14154388f49c",
        "colab": {
          "base_uri": "https://localhost:8080/"
        }
      },
      "source": [
        "en_lines = []\n",
        "vi_lines = []\n",
        "min_len, max_len = 10, 14\n",
        "\n",
        "for eline, vline in zip(raw_en_lines, raw_vi_lines):\n",
        "    eline = preprocess(eline)\n",
        "    vline = preprocess(vline)\n",
        "    if min_len < len(eline.split(\" \")) < max_len and min_len < len(vline.split(\" \")) < max_len:\n",
        "        en_lines.append(eline)\n",
        "        vi_lines.append(vline)\n",
        "        \n",
        "print(len(en_lines))"
      ],
      "execution_count": null,
      "outputs": [
        {
          "output_type": "stream",
          "name": "stdout",
          "text": [
            "6016\n"
          ]
        }
      ]
    },
    {
      "cell_type": "code",
      "metadata": {
        "id": "M155yoJ6Bgj-"
      },
      "source": [
        "class Language():\n",
        "    def __init__(self, lines):\n",
        "        self.lines = lines\n",
        "        self.word2id = {}\n",
        "        self.id2word = {}\n",
        "        self.vocab = set()\n",
        "        self.max_len = 0\n",
        "        self.min_len = 0\n",
        "        self.vocab_size = 0\n",
        "        self.init_language_params()\n",
        "\n",
        "    def init_language_params(self):\n",
        "        for line in self.lines:\n",
        "            self.vocab.update(line.split(\" \"))\n",
        "        self.word2id['<pad>'] = 0\n",
        "        for id, word in enumerate(self.vocab):\n",
        "            self.word2id[word] = id + 1\n",
        "        for word, id in self.word2id.items():\n",
        "            self.id2word[id] = word\n",
        "        self.max_len = max([len(line.split(\" \")) for line in self.lines])\n",
        "        self.min_len = min([len(line.split(\" \")) for line in self.lines])\n",
        "        self.vocab_size = len(self.vocab) + 1\n",
        "            \n",
        "    def sentence_to_vector(self, sent):\n",
        "        return np.array([self.word2id[word] for word in sent.split(\" \")])\n",
        "            \n",
        "    def vector_to_sentence(self, vector):\n",
        "        return \" \".join([self.id2word[id] for id in vector])"
      ],
      "execution_count": null,
      "outputs": []
    },
    {
      "cell_type": "code",
      "metadata": {
        "id": "lytHfioABgkA",
        "outputId": "23aebd7d-cf3c-48d9-cb4f-acbc1c481858",
        "colab": {
          "base_uri": "https://localhost:8080/"
        }
      },
      "source": [
        "inp_lang = Language(en_lines)\n",
        "tar_lang = Language(vi_lines)\n",
        "print(inp_lang.max_len, inp_lang.min_len)\n",
        "print(tar_lang.max_len, tar_lang.min_len)\n",
        "\n",
        "inp_vector = [inp_lang.sentence_to_vector(line) for line in inp_lang.lines]\n",
        "tar_vector = [tar_lang.sentence_to_vector(line) for line in tar_lang.lines]\n",
        "\n",
        "inp_tensor = tf.keras.preprocessing.sequence.pad_sequences(inp_vector, inp_lang.max_len, padding='post')\n",
        "tar_tensor = tf.keras.preprocessing.sequence.pad_sequences(tar_vector, tar_lang.max_len, padding='post')\n",
        "print(inp_tensor.shape, tar_tensor.shape)"
      ],
      "execution_count": null,
      "outputs": [
        {
          "output_type": "stream",
          "name": "stdout",
          "text": [
            "13 11\n",
            "13 11\n",
            "(6016, 13) (6016, 13)\n"
          ]
        }
      ]
    },
    {
      "cell_type": "code",
      "metadata": {
        "id": "JB75H1oPF0rp"
      },
      "source": [
        "# i = 3\n",
        "# print(inp_tensor[i], type(inp_tensor[i]))\n",
        "# sent = inp_lang.vector_to_sentence(inp_tensor[i]) \n",
        "# print(sent, type(sent))\n",
        "# vector = inp_lang.sentence_to_vector(inp_lang.vector_to_sentence(inp_tensor[i]))\n",
        "# print(vector, type(vector))\n",
        "# for inp, tar in zip(inp_tensor, tar_tensor):\n",
        "#     print(inp_lang.vector_to_sentence(inp))\n",
        "#     print(tar_lang.vector_to_sentence(tar))\n",
        "    "
      ],
      "execution_count": null,
      "outputs": []
    },
    {
      "cell_type": "code",
      "metadata": {
        "id": "TD0jgFQDBgkD",
        "outputId": "25833308-e2c7-422c-e2fd-2e8fb13053eb",
        "colab": {
          "base_uri": "https://localhost:8080/"
        }
      },
      "source": [
        "\n",
        "x_train, x_val, y_train, y_val = train_test_split(inp_tensor, tar_tensor, test_size=0.1)\n",
        "\n",
        "BATCH_SIZE = 32\n",
        "BUFFER_SIZE = x_train.shape[0]\n",
        "N_BATCH = BUFFER_SIZE//BATCH_SIZE\n",
        "hidden_unit = 1024\n",
        "embedding_size = 256\n",
        "print(BUFFER_SIZE)\n",
        "\n",
        "\n",
        "dataset = tf.data.Dataset.from_tensor_slices((x_train, y_train))\n",
        "dataset = dataset.batch(BATCH_SIZE)"
      ],
      "execution_count": null,
      "outputs": [
        {
          "output_type": "stream",
          "name": "stdout",
          "text": [
            "5414\n"
          ]
        }
      ]
    },
    {
      "cell_type": "code",
      "metadata": {
        "id": "Zcyz7jK0BgkG",
        "outputId": "15e56cb6-15f8-4809-ce15-b36687f0aeb7",
        "colab": {
          "base_uri": "https://localhost:8080/"
        }
      },
      "source": [
        "tmp_x, tmp_y = next(iter(dataset))\n",
        "print(tmp_x.shape)\n",
        "print(tmp_y.shape)"
      ],
      "execution_count": null,
      "outputs": [
        {
          "output_type": "stream",
          "name": "stdout",
          "text": [
            "(32, 13)\n",
            "(32, 13)\n"
          ]
        }
      ]
    },
    {
      "cell_type": "code",
      "metadata": {
        "id": "9SLKFFDRBgkI"
      },
      "source": [
        "class Encode(tf.keras.Model):\n",
        "    def __init__(self, embedding_size, vocab_size, hidden_units):\n",
        "        super(Encode, self).__init__()\n",
        "        self.Embedding = tf.keras.layers.Embedding(vocab_size,embedding_size)\n",
        "        self.GRU = tf.keras.layers.GRU(\n",
        "            hidden_units,\n",
        "            return_sequences=True,\n",
        "            return_state=True,\n",
        "            recurrent_initializer='glorot_uniform')\n",
        "        self.hidden_units = hidden_units\n",
        "        \n",
        "    def call(self, x, hidden_state):\n",
        "        try:\n",
        "            x = self.Embedding(x)\n",
        "        except:\n",
        "            print(x, print(inp_lang.vocab_size))          \n",
        "        outputs, last_state = self.GRU(x, hidden_state)\n",
        "        return outputs, last_state\n",
        "    \n",
        "    def init_hidden_state(self, batch_size):\n",
        "        return tf.zeros([batch_size, self.hidden_units])"
      ],
      "execution_count": null,
      "outputs": []
    },
    {
      "cell_type": "code",
      "metadata": {
        "id": "_Bv5RJy2BgkK",
        "colab": {
          "base_uri": "https://localhost:8080/"
        },
        "outputId": "834b8da4-8a75-4cfd-b190-33648c91dc96"
      },
      "source": [
        "encoder = Encode(embedding_size, inp_lang.vocab_size, hidden_unit)\n",
        "hidden_state = encoder.init_hidden_state(BATCH_SIZE)\n",
        "tmp_outputs, last_state = encoder(tmp_x, hidden_state)\n",
        "print(tmp_outputs.shape)\n",
        "print(last_state.shape)"
      ],
      "execution_count": null,
      "outputs": [
        {
          "output_type": "stream",
          "name": "stdout",
          "text": [
            "(32, 13, 1024)\n",
            "(32, 1024)\n"
          ]
        }
      ]
    },
    {
      "cell_type": "code",
      "metadata": {
        "id": "3BhTc-AMBgkN"
      },
      "source": [
        "class Attention(tf.keras.Model):\n",
        "    def __init__(self, hidden_units):\n",
        "        super(Attention, self).__init__()\n",
        "        self.W_out_encode = tf.keras.layers.Dense(hidden_unit)\n",
        "        self.W_state = tf.keras.layers.Dense(hidden_unit)\n",
        "        self.V = tf.keras.layers.Dense(1)\n",
        "        \n",
        "    def call(self, encode_outs, pre_state):\n",
        "        pre_state = tf.expand_dims(pre_state, axis=1)\n",
        "        pre_state = self.W_state(pre_state)\n",
        "        encode_outs = self.W_out_encode(encode_outs)\n",
        "        score = self.V(\n",
        "            tf.nn.tanh(\n",
        "                pre_state + encode_outs)\n",
        "        )\n",
        "        score = tf.nn.softmax(score, axis=1)\n",
        "        context_vector = score*encode_outs\n",
        "        context_vector = tf.reduce_sum(context_vector, axis=1)\n",
        "        return context_vector, score\n",
        "    "
      ],
      "execution_count": null,
      "outputs": []
    },
    {
      "cell_type": "code",
      "metadata": {
        "id": "QTEV2cEdBgkP",
        "colab": {
          "base_uri": "https://localhost:8080/"
        },
        "outputId": "36fb3e10-7696-4374-e395-a3aeb8750624"
      },
      "source": [
        "attention = Attention(hidden_unit)\n",
        "context_vector, attention_weight = attention(tmp_outputs, last_state)\n",
        "print(context_vector.shape, attention_weight.shape)"
      ],
      "execution_count": null,
      "outputs": [
        {
          "output_type": "stream",
          "name": "stdout",
          "text": [
            "(32, 1024) (32, 13, 1)\n"
          ]
        }
      ]
    },
    {
      "cell_type": "code",
      "metadata": {
        "id": "Y9beRmrQBgkR",
        "colab": {
          "base_uri": "https://localhost:8080/"
        },
        "outputId": "0173cb88-bf37-4a79-96ab-a0f1a6245286"
      },
      "source": [
        "class Decode(tf.keras.Model):\n",
        "    def __init__(self, vocab_size, embedding_size, hidden_units):\n",
        "        super(Decode, self).__init__()\n",
        "        self.hidden_units = hidden_units\n",
        "        self.Embedding = tf.keras.layers.Embedding(vocab_size,embedding_size)\n",
        "        self.Attention = Attention(hidden_units)\n",
        "        self.GRU = tf.keras.layers.GRU(\n",
        "            hidden_units,\n",
        "            return_sequences=True,\n",
        "            return_state=True,\n",
        "            recurrent_initializer='glorot_uniform'\n",
        "        )\n",
        "        self.Fc = tf.keras.layers.Dense(vocab_size)\n",
        "            \n",
        "    def call(self, x, encode_outs, pre_state):\n",
        "        x = tf.expand_dims(x, axis=1)\n",
        "        try:\n",
        "            x = self.Embedding(x)\n",
        "        except:\n",
        "            print(x, print(tar_lang.vocab_size))          \n",
        "        context_vector, attention_weight = self.Attention(encode_outs, pre_state)\n",
        "        context_vector = tf.expand_dims(context_vector, axis=1)\n",
        "        gru_inp = tf.concat([x, context_vector], axis=-1)\n",
        "        out_gru, state = self.GRU(gru_inp)\n",
        "        out_gru = tf.reshape(out_gru, (-1, out_gru.shape[2]))\n",
        "        return self.Fc(out_gru), state\n",
        "    \n",
        "    \n",
        "decode = Decode(tar_lang.vocab_size, embedding_size, hidden_unit)\n",
        "print(last_state.shape, tmp_outputs.shape, tmp_y[:, 0].shape)\n",
        "decode_out, state = decode(tmp_y[:, 0], tmp_outputs, last_state)"
      ],
      "execution_count": null,
      "outputs": [
        {
          "output_type": "stream",
          "name": "stdout",
          "text": [
            "(32, 1024) (32, 13, 1024) (32,)\n"
          ]
        }
      ]
    },
    {
      "cell_type": "code",
      "metadata": {
        "id": "c17XofrSBgkT"
      },
      "source": [
        "def loss_function(real, pred):\n",
        "    mask = 1 - np.equal(real, 0)\n",
        "    loss_ = tf.nn.sparse_softmax_cross_entropy_with_logits(labels=real, logits=pred) * mask\n",
        "    return tf.reduce_mean(loss_)"
      ],
      "execution_count": null,
      "outputs": []
    },
    {
      "cell_type": "code",
      "metadata": {
        "id": "GDeHi5MuBgkZ"
      },
      "source": [
        "EPOCHS = 30\n",
        "optimizer = tf.optimizers.Adam()\n",
        "encoder = Encode(embedding_size, vocab_size=inp_lang.vocab_size, hidden_units=hidden_unit)\n",
        "decoder = Decode(vocab_size=tar_lang.vocab_size, embedding_size=embedding_size, hidden_units=hidden_unit)"
      ],
      "execution_count": null,
      "outputs": []
    },
    {
      "cell_type": "code",
      "metadata": {
        "id": "CD68uO8EBgkc",
        "outputId": "68918272-09fe-4162-d37a-22a3f5024687",
        "colab": {
          "base_uri": "https://localhost:8080/"
        }
      },
      "source": [
        "for epoch in range(EPOCHS):\n",
        "    total_loss = 0\n",
        "    for batch_id, (x, y) in enumerate(dataset.take(N_BATCH)):\n",
        "        loss = 0\n",
        "        with tf.GradientTape() as tape:\n",
        "            first_state = encoder.init_hidden_state(batch_size=BATCH_SIZE)\n",
        "            encode_outs, last_state = encoder(x, first_state)\n",
        "            decode_state = last_state\n",
        "            decode_input = [tar_lang.word2id[\"<start>\"]]*BATCH_SIZE\n",
        "            \n",
        "            for i in range(1, y.shape[1]):\n",
        "                decode_out, decode_state = decoder(decode_input, encode_outs, decode_state)\n",
        "                loss += loss_function(y[:, i], decode_out)\n",
        "                decode_input = y[:, i]\n",
        "                \n",
        "            train_vars = encoder.trainable_variables + decoder.trainable_variables\n",
        "            grads = tape.gradient(loss, train_vars)\n",
        "            optimizer.apply_gradients(zip(grads, train_vars))\n",
        "        total_loss += loss\n",
        "    print(total_loss.numpy())"
      ],
      "execution_count": null,
      "outputs": [
        {
          "output_type": "stream",
          "name": "stdout",
          "text": [
            "10466.807\n",
            "9064.642\n",
            "8150.381\n",
            "7308.5615\n",
            "6505.494\n",
            "5781.1143\n",
            "5111.816\n",
            "4511.488\n",
            "3948.0696\n",
            "3417.0356\n",
            "2988.5793\n",
            "2647.0076\n",
            "2435.9707\n",
            "2033.157\n",
            "1826.1403\n",
            "1626.8839\n",
            "1338.6041\n",
            "1137.4387\n",
            "1033.0854\n",
            "899.7208\n",
            "732.94183\n",
            "626.5451\n",
            "550.79205\n",
            "490.44833\n",
            "457.22125\n",
            "480.45615\n",
            "655.8513\n",
            "574.5779\n",
            "386.12833\n",
            "316.53763\n"
          ]
        }
      ]
    },
    {
      "cell_type": "code",
      "metadata": {
        "id": "3wvvPpoqH5fL",
        "outputId": "1d66a385-7f99-4d16-d263-ed7d8780a16e",
        "colab": {
          "base_uri": "https://localhost:8080/"
        }
      },
      "source": [
        "def translate(inputs):\n",
        "    print(inp_lang.vector_to_sentence(inputs[0].numpy()))\n",
        "    result = ''\n",
        "\n",
        "    hidden = encoder.init_hidden_state(batch_size=1)\n",
        "    enc_out, enc_hidden = encoder(inputs, hidden)\n",
        "    dec_hidden = enc_hidden\n",
        "    print(enc_out.shape, dec_hidden.shape)\n",
        "    \n",
        "    dec_input = [tar_lang.word2id['<start>']]\n",
        "    for t in range(tar_lang.max_len):\n",
        "        predictions, dec_hidden = decoder(dec_input, enc_out, dec_hidden)\n",
        "        predicted_id = tf.argmax(predictions[0]).numpy()\n",
        "        result += tar_lang.id2word[predicted_id] + ' '\n",
        "        dec_input = [predicted_id]\n",
        "    return result\n",
        "  \n",
        "# với mục đích demo, mình sẽ test trên chính dữ liệu train, đó là 1 mẹo kiểm tra model của bạn có hoạt động hay không, nếu không hoạt động có nghĩa rằng thuật toán của bạn chưa đúng\n",
        "for inp, tar in dataset.take(N_BATCH):\n",
        "    print(translate(inp[1:2,:]))\n",
        "    break"
      ],
      "execution_count": null,
      "outputs": [
        {
          "output_type": "stream",
          "name": "stdout",
          "text": [
            "<start> you know why they have their eyes set on it  <end>\n",
            "(1, 13, 1024) (1, 1024)\n",
            "bạn biết lý khi họ cứ dòm ngó chúng không  <end> chúng \n"
          ]
        }
      ]
    }
  ]
}